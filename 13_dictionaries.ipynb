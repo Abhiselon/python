{
 "cells": [
  {
   "cell_type": "code",
   "execution_count": 1,
   "id": "52cee021-679e-418b-bb9f-fa25421af963",
   "metadata": {},
   "outputs": [
    {
     "data": {
      "text/plain": [
       "{'a': 'aardvark', 'b': 'bear', 'c': 'cat'}"
      ]
     },
     "execution_count": 1,
     "metadata": {},
     "output_type": "execute_result"
    }
   ],
   "source": [
    "animals = {\n",
    "    'a' : 'aardvark',\n",
    "    'b' : 'bear',\n",
    "    'c' : 'cat',\n",
    "}\n",
    "animals"
   ]
  },
  {
   "cell_type": "code",
   "execution_count": 2,
   "id": "8e6a8833-44a7-4092-bcc4-f0ee0316c2f9",
   "metadata": {},
   "outputs": [
    {
     "data": {
      "text/plain": [
       "'aardvark'"
      ]
     },
     "execution_count": 2,
     "metadata": {},
     "output_type": "execute_result"
    }
   ],
   "source": [
    "animals['a']"
   ]
  },
  {
   "cell_type": "code",
   "execution_count": 3,
   "id": "3a0e5133-fa1d-42b6-b5b2-f65515a4f74d",
   "metadata": {},
   "outputs": [],
   "source": [
    "animals['d'] = 'dog'\n"
   ]
  },
  {
   "cell_type": "code",
   "execution_count": 4,
   "id": "c538be1a-faae-4b6b-93b1-60975ae6c392",
   "metadata": {},
   "outputs": [
    {
     "data": {
      "text/plain": [
       "{'a': 'aardvark', 'b': 'bear', 'c': 'cat', 'd': 'dog'}"
      ]
     },
     "execution_count": 4,
     "metadata": {},
     "output_type": "execute_result"
    }
   ],
   "source": [
    "animals"
   ]
  },
  {
   "cell_type": "code",
   "execution_count": 5,
   "id": "57b3981a-1e57-4ef9-a952-4be870cffe95",
   "metadata": {},
   "outputs": [],
   "source": [
    "animals['a'] = 'antelope'"
   ]
  },
  {
   "cell_type": "code",
   "execution_count": 6,
   "id": "306d879a-474b-4a56-918e-bbbdc945f939",
   "metadata": {},
   "outputs": [
    {
     "data": {
      "text/plain": [
       "{'a': 'antelope', 'b': 'bear', 'c': 'cat', 'd': 'dog'}"
      ]
     },
     "execution_count": 6,
     "metadata": {},
     "output_type": "execute_result"
    }
   ],
   "source": [
    "animals"
   ]
  },
  {
   "cell_type": "code",
   "execution_count": 7,
   "id": "f5eac3da-62e2-4e49-b681-302a561095fc",
   "metadata": {},
   "outputs": [
    {
     "data": {
      "text/plain": [
       "dict_keys(['a', 'b', 'c', 'd'])"
      ]
     },
     "execution_count": 7,
     "metadata": {},
     "output_type": "execute_result"
    }
   ],
   "source": [
    "animals.keys()"
   ]
  },
  {
   "cell_type": "code",
   "execution_count": 13,
   "id": "67892d0e-4def-4142-9a4e-e0108371e57f",
   "metadata": {},
   "outputs": [
    {
     "data": {
      "text/plain": [
       "['antelope', 'bear', 'cat', 'dog']"
      ]
     },
     "execution_count": 13,
     "metadata": {},
     "output_type": "execute_result"
    }
   ],
   "source": [
    "list(animals.values())"
   ]
  },
  {
   "cell_type": "code",
   "execution_count": 14,
   "id": "afb55f14-58f6-416e-ac92-50418e31ae6b",
   "metadata": {},
   "outputs": [
    {
     "data": {
      "text/plain": [
       "'antelope'"
      ]
     },
     "execution_count": 14,
     "metadata": {},
     "output_type": "execute_result"
    }
   ],
   "source": [
    "animals.get('a')"
   ]
  },
  {
   "cell_type": "code",
   "execution_count": 25,
   "id": "5bff8e6d-0a87-4920-b98b-84ce97b479e3",
   "metadata": {},
   "outputs": [
    {
     "data": {
      "text/plain": [
       "{'a': ['aardvark', 'antelope'], 'b': ['bear']}"
      ]
     },
     "execution_count": 25,
     "metadata": {},
     "output_type": "execute_result"
    }
   ],
   "source": [
    "animals = {\n",
    "    'a' : ['aardvark' , 'antelope'],\n",
    "    'b' : ['bear']\n",
    "}\n",
    "animals"
   ]
  },
  {
   "cell_type": "code",
   "execution_count": 26,
   "id": "c7270b6c-5aa3-44f7-97fb-e5eb96533e82",
   "metadata": {},
   "outputs": [],
   "source": [
    "animals['b'].append('bison')"
   ]
  },
  {
   "cell_type": "code",
   "execution_count": 27,
   "id": "6a29a7fc-cd7e-4152-960f-e9b1d3b2e7da",
   "metadata": {},
   "outputs": [
    {
     "data": {
      "text/plain": [
       "{'a': ['aardvark', 'antelope'], 'b': ['bear', 'bison']}"
      ]
     },
     "execution_count": 27,
     "metadata": {},
     "output_type": "execute_result"
    }
   ],
   "source": [
    "animals"
   ]
  },
  {
   "cell_type": "code",
   "execution_count": 28,
   "id": "9c5c40ff-134a-45a4-8fbf-a685c526f61d",
   "metadata": {},
   "outputs": [],
   "source": [
    "animals['c'] = ['cat']"
   ]
  },
  {
   "cell_type": "code",
   "execution_count": 29,
   "id": "1e18acdf-811c-4174-8419-0ee748efbbb4",
   "metadata": {},
   "outputs": [
    {
     "data": {
      "text/plain": [
       "{'a': ['aardvark', 'antelope'], 'b': ['bear', 'bison'], 'c': ['cat']}"
      ]
     },
     "execution_count": 29,
     "metadata": {},
     "output_type": "execute_result"
    }
   ],
   "source": [
    "animals"
   ]
  },
  {
   "cell_type": "code",
   "execution_count": 30,
   "id": "cddfdde0-8169-4244-8e50-7148989b5f4c",
   "metadata": {},
   "outputs": [],
   "source": [
    "\n",
    "animals['c'].append('cat')"
   ]
  },
  {
   "cell_type": "code",
   "execution_count": 31,
   "id": "6a09cef3-dc83-405e-b672-72788bdf4725",
   "metadata": {},
   "outputs": [
    {
     "data": {
      "text/plain": [
       "{'a': ['aardvark', 'antelope'], 'b': ['bear', 'bison'], 'c': ['cat', 'cat']}"
      ]
     },
     "execution_count": 31,
     "metadata": {},
     "output_type": "execute_result"
    }
   ],
   "source": [
    "animals"
   ]
  },
  {
   "cell_type": "markdown",
   "id": "39ab2e47-a92c-4d07-b2e2-292b6e0650a7",
   "metadata": {},
   "source": [
    "#### The Default Dict"
   ]
  },
  {
   "cell_type": "code",
   "execution_count": 32,
   "id": "42df2bd2-e580-419e-92a3-62be7ffbe788",
   "metadata": {},
   "outputs": [],
   "source": [
    "from collections import defaultdict"
   ]
  },
  {
   "cell_type": "code",
   "execution_count": 33,
   "id": "478ad364-d919-4d97-93cd-1418c983f80b",
   "metadata": {},
   "outputs": [],
   "source": [
    "animals =  defaultdict(set)"
   ]
  },
  {
   "cell_type": "code",
   "execution_count": 34,
   "id": "55ee9833-7eec-4ebd-b55d-423c8a955d06",
   "metadata": {},
   "outputs": [
    {
     "data": {
      "text/plain": [
       "defaultdict(set, {})"
      ]
     },
     "execution_count": 34,
     "metadata": {},
     "output_type": "execute_result"
    }
   ],
   "source": [
    "animals"
   ]
  },
  {
   "cell_type": "code",
   "execution_count": 36,
   "id": "67a7b21a-3766-41c7-b4a0-da2d9295ff10",
   "metadata": {},
   "outputs": [],
   "source": [
    "animals['a'].add('antelope')"
   ]
  },
  {
   "cell_type": "code",
   "execution_count": 37,
   "id": "d34fe0ae-b277-467d-9688-c34440d1e176",
   "metadata": {},
   "outputs": [
    {
     "data": {
      "text/plain": [
       "defaultdict(set, {'a': {'antelope'}})"
      ]
     },
     "execution_count": 37,
     "metadata": {},
     "output_type": "execute_result"
    }
   ],
   "source": [
    "animals"
   ]
  },
  {
   "cell_type": "code",
   "execution_count": 38,
   "id": "09ab13a8-e62e-4582-aa65-c15ea60ba4ef",
   "metadata": {},
   "outputs": [],
   "source": [
    "animals['a'].add('antelope')"
   ]
  },
  {
   "cell_type": "code",
   "execution_count": 39,
   "id": "57381f60-8247-43fd-98a9-80f9cf6ec29b",
   "metadata": {},
   "outputs": [],
   "source": [
    "animals['a'].add('aardvark')"
   ]
  },
  {
   "cell_type": "code",
   "execution_count": 40,
   "id": "d6282d12-be50-4173-93c8-c615633eac00",
   "metadata": {},
   "outputs": [
    {
     "data": {
      "text/plain": [
       "defaultdict(set, {'a': {'aardvark', 'antelope'}})"
      ]
     },
     "execution_count": 40,
     "metadata": {},
     "output_type": "execute_result"
    }
   ],
   "source": [
    "animals"
   ]
  },
  {
   "cell_type": "code",
   "execution_count": 43,
   "id": "f202902e-3e65-4ca0-b24b-4e7430a818dc",
   "metadata": {},
   "outputs": [
    {
     "data": {
      "text/plain": [
       "'antelope'"
      ]
     },
     "execution_count": 43,
     "metadata": {},
     "output_type": "execute_result"
    }
   ],
   "source": [
    "animals['a'].pop()"
   ]
  },
  {
   "cell_type": "code",
   "execution_count": 44,
   "id": "e7225222-d6a4-4da4-9530-d70f4f5c74ec",
   "metadata": {},
   "outputs": [
    {
     "data": {
      "text/plain": [
       "defaultdict(set, {'a': {'aardvark'}})"
      ]
     },
     "execution_count": 44,
     "metadata": {},
     "output_type": "execute_result"
    }
   ],
   "source": [
    "animals"
   ]
  },
  {
   "cell_type": "code",
   "execution_count": 45,
   "id": "44a07060-5427-4706-be64-707cd1bc131a",
   "metadata": {},
   "outputs": [
    {
     "data": {
      "text/plain": [
       "set()"
      ]
     },
     "execution_count": 45,
     "metadata": {},
     "output_type": "execute_result"
    }
   ],
   "source": [
    "animals['f']"
   ]
  }
 ],
 "metadata": {
  "kernelspec": {
   "display_name": "Python 3 (ipykernel)",
   "language": "python",
   "name": "python3"
  },
  "language_info": {
   "codemirror_mode": {
    "name": "ipython",
    "version": 3
   },
   "file_extension": ".py",
   "mimetype": "text/x-python",
   "name": "python",
   "nbconvert_exporter": "python",
   "pygments_lexer": "ipython3",
   "version": "3.13.0"
  }
 },
 "nbformat": 4,
 "nbformat_minor": 5
}
