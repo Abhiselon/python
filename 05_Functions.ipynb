{
 "cells": [
  {
   "cell_type": "markdown",
   "id": "83d721e2-2768-4e3b-8236-d7d7e46dab30",
   "metadata": {},
   "source": [
    "Functions"
   ]
  },
  {
   "cell_type": "code",
   "execution_count": 2,
   "id": "04bd771f-9d20-49e3-b8fb-5047686fe836",
   "metadata": {},
   "outputs": [
    {
     "name": "stdout",
     "output_type": "stream",
     "text": [
      "hello world\n"
     ]
    }
   ],
   "source": [
    "print(\"hello world\") #here print is a function"
   ]
  },
  {
   "cell_type": "code",
   "execution_count": 3,
   "id": "91ff6081-0b83-471a-8d22-4bed309d25ba",
   "metadata": {},
   "outputs": [],
   "source": [
    "def multiplyby3(a):\n",
    "    return 3*a"
   ]
  },
  {
   "cell_type": "code",
   "execution_count": 4,
   "id": "0297848c-d22a-49dc-a1c6-15409436e6b8",
   "metadata": {},
   "outputs": [
    {
     "data": {
      "text/plain": [
       "270"
      ]
     },
     "execution_count": 4,
     "metadata": {},
     "output_type": "execute_result"
    }
   ],
   "source": [
    "multiplyby3(90)"
   ]
  },
  {
   "cell_type": "code",
   "execution_count": 5,
   "id": "c5477f2b-6876-49b8-9d75-582bbe1d503d",
   "metadata": {},
   "outputs": [],
   "source": [
    "def multiply(a,b):\n",
    "    return a * b"
   ]
  },
  {
   "cell_type": "code",
   "execution_count": 6,
   "id": "fb20fadc-1811-4c5e-8f09-1b3f133bc65d",
   "metadata": {},
   "outputs": [
    {
     "data": {
      "text/plain": [
       "126"
      ]
     },
     "execution_count": 6,
     "metadata": {},
     "output_type": "execute_result"
    }
   ],
   "source": [
    "multiply(3,42)"
   ]
  },
  {
   "cell_type": "code",
   "execution_count": 7,
   "id": "8b539eba-0846-4c34-834b-23796f4f56b6",
   "metadata": {},
   "outputs": [
    {
     "name": "stdout",
     "output_type": "stream",
     "text": [
      "hello world\n",
      "None\n"
     ]
    }
   ],
   "source": [
    "print(print(\"hello world\")) #print returns None"
   ]
  },
  {
   "cell_type": "code",
   "execution_count": 8,
   "id": "dd2d6c4c-1536-4ab9-9966-2e0bc5cb9c2a",
   "metadata": {},
   "outputs": [
    {
     "name": "stdout",
     "output_type": "stream",
     "text": [
      "None\n"
     ]
    }
   ],
   "source": [
    "print(None)"
   ]
  },
  {
   "cell_type": "code",
   "execution_count": 12,
   "id": "dd698016-7236-45d9-b731-32a917ffd7c4",
   "metadata": {},
   "outputs": [],
   "source": [
    "def printmyname(name):\n",
    "    print(f\"Your name is {name} \")"
   ]
  },
  {
   "cell_type": "code",
   "execution_count": 13,
   "id": "c9148b0b-42e5-4713-9d14-3f1819898a74",
   "metadata": {},
   "outputs": [
    {
     "name": "stdout",
     "output_type": "stream",
     "text": [
      "Your name is Abhishek \n"
     ]
    }
   ],
   "source": [
    "printmyname(\"Abhishek\")"
   ]
  }
 ],
 "metadata": {
  "kernelspec": {
   "display_name": "Python 3 (ipykernel)",
   "language": "python",
   "name": "python3"
  },
  "language_info": {
   "codemirror_mode": {
    "name": "ipython",
    "version": 3
   },
   "file_extension": ".py",
   "mimetype": "text/x-python",
   "name": "python",
   "nbconvert_exporter": "python",
   "pygments_lexer": "ipython3",
   "version": "3.13.0"
  }
 },
 "nbformat": 4,
 "nbformat_minor": 5
}
