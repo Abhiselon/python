{
 "cells": [
  {
   "cell_type": "code",
   "execution_count": 2,
   "id": "a92d8f45-f6bc-47f5-bb9e-3c076868db5e",
   "metadata": {},
   "outputs": [
    {
     "data": {
      "text/plain": [
       "5.0"
      ]
     },
     "execution_count": 2,
     "metadata": {},
     "output_type": "execute_result"
    }
   ],
   "source": [
    "20/4 # Division gives float"
   ]
  },
  {
   "cell_type": "code",
   "execution_count": 3,
   "id": "1599b511-8709-4002-a02d-d7e6e6bdba9b",
   "metadata": {},
   "outputs": [
    {
     "data": {
      "text/plain": [
       "8.0"
      ]
     },
     "execution_count": 3,
     "metadata": {},
     "output_type": "execute_result"
    }
   ],
   "source": [
    "4 + 4.0"
   ]
  },
  {
   "cell_type": "code",
   "execution_count": 4,
   "id": "51ab2251-e507-47a6-a0ba-2ece3ceabda2",
   "metadata": {},
   "outputs": [
    {
     "data": {
      "text/plain": [
       "25.0"
      ]
     },
     "execution_count": 4,
     "metadata": {},
     "output_type": "execute_result"
    }
   ],
   "source": [
    "5 * 5.0"
   ]
  },
  {
   "cell_type": "code",
   "execution_count": 5,
   "id": "a830c0d5-50dc-4009-a1c1-78b607e59d74",
   "metadata": {},
   "outputs": [
    {
     "data": {
      "text/plain": [
       "256.0"
      ]
     },
     "execution_count": 5,
     "metadata": {},
     "output_type": "execute_result"
    }
   ],
   "source": [
    "4 ** 4.0"
   ]
  },
  {
   "cell_type": "code",
   "execution_count": 7,
   "id": "4ec140f2-c84c-4da2-8539-c211d7bd07a2",
   "metadata": {},
   "outputs": [
    {
     "data": {
      "text/plain": [
       "256"
      ]
     },
     "execution_count": 7,
     "metadata": {},
     "output_type": "execute_result"
    }
   ],
   "source": [
    "int(4 ** 4.0) # int is a built in class"
   ]
  },
  {
   "cell_type": "code",
   "execution_count": 8,
   "id": "9f57a51c-1e70-4a9d-aa44-6fb0d6e046f2",
   "metadata": {},
   "outputs": [
    {
     "data": {
      "text/plain": [
       "8"
      ]
     },
     "execution_count": 8,
     "metadata": {},
     "output_type": "execute_result"
    }
   ],
   "source": [
    "# casting from one data type to other\n",
    "int(8.999)"
   ]
  },
  {
   "cell_type": "code",
   "execution_count": 9,
   "id": "d5b92d32-4628-4ff1-9d59-617ada48be11",
   "metadata": {},
   "outputs": [
    {
     "data": {
      "text/plain": [
       "9"
      ]
     },
     "execution_count": 9,
     "metadata": {},
     "output_type": "execute_result"
    }
   ],
   "source": [
    "round(8.9999)"
   ]
  },
  {
   "cell_type": "code",
   "execution_count": 10,
   "id": "d75563c5-bceb-44bd-9986-e133eaefc1f1",
   "metadata": {},
   "outputs": [
    {
     "data": {
      "text/plain": [
       "0.30000000000000004"
      ]
     },
     "execution_count": 10,
     "metadata": {},
     "output_type": "execute_result"
    }
   ],
   "source": [
    "1.3-1.0"
   ]
  },
  {
   "cell_type": "code",
   "execution_count": 11,
   "id": "17f4958e-c2fa-4bcc-b195-7c7a9602c4b9",
   "metadata": {},
   "outputs": [
    {
     "data": {
      "text/plain": [
       "4.666666666666667"
      ]
     },
     "execution_count": 11,
     "metadata": {},
     "output_type": "execute_result"
    }
   ],
   "source": [
    "14/3"
   ]
  },
  {
   "cell_type": "code",
   "execution_count": 12,
   "id": "9811c6e1-1c0d-443e-9926-70170a3bdc4d",
   "metadata": {},
   "outputs": [
    {
     "data": {
      "text/plain": [
       "0.3"
      ]
     },
     "execution_count": 12,
     "metadata": {},
     "output_type": "execute_result"
    }
   ],
   "source": [
    "round(1.3-1.0,2)"
   ]
  },
  {
   "cell_type": "markdown",
   "id": "c5cc3bee-6b04-4c1f-8fd3-3841602005f3",
   "metadata": {},
   "source": [
    "Integers"
   ]
  },
  {
   "cell_type": "code",
   "execution_count": 13,
   "id": "cdffe231-942e-4f24-903c-4994369e7736",
   "metadata": {},
   "outputs": [
    {
     "data": {
      "text/plain": [
       "100"
      ]
     },
     "execution_count": 13,
     "metadata": {},
     "output_type": "execute_result"
    }
   ],
   "source": [
    "int('100')"
   ]
  },
  {
   "cell_type": "code",
   "execution_count": 17,
   "id": "36a2f1a1-807d-4ae7-a0f2-d8bf68a925e6",
   "metadata": {},
   "outputs": [
    {
     "data": {
      "text/plain": [
       "4"
      ]
     },
     "execution_count": 17,
     "metadata": {},
     "output_type": "execute_result"
    }
   ],
   "source": [
    "int('100',2) # base 2 "
   ]
  },
  {
   "cell_type": "code",
   "execution_count": 18,
   "id": "c795ef1f-5a0c-4152-9eef-ac54458f0525",
   "metadata": {},
   "outputs": [
    {
     "ename": "TypeError",
     "evalue": "int() can't convert non-string with explicit base",
     "output_type": "error",
     "traceback": [
      "\u001b[1;31m---------------------------------------------------------------------------\u001b[0m",
      "\u001b[1;31mTypeError\u001b[0m                                 Traceback (most recent call last)",
      "Cell \u001b[1;32mIn[18], line 1\u001b[0m\n\u001b[1;32m----> 1\u001b[0m \u001b[38;5;28;43mint\u001b[39;49m\u001b[43m(\u001b[49m\u001b[38;5;241;43m100\u001b[39;49m\u001b[43m,\u001b[49m\u001b[38;5;241;43m2\u001b[39;49m\u001b[43m)\u001b[49m \u001b[38;5;66;03m# base 2 but input should be string\u001b[39;00m\n",
      "\u001b[1;31mTypeError\u001b[0m: int() can't convert non-string with explicit base"
     ]
    }
   ],
   "source": [
    "int(100,2) # base 2 but input should be string"
   ]
  },
  {
   "cell_type": "code",
   "execution_count": 19,
   "id": "0959d3a2-fb96-47de-b047-3077e4d172a0",
   "metadata": {},
   "outputs": [
    {
     "data": {
      "text/plain": [
       "427"
      ]
     },
     "execution_count": 19,
     "metadata": {},
     "output_type": "execute_result"
    }
   ],
   "source": [
    "int('1ab',16) # base 16"
   ]
  },
  {
   "cell_type": "markdown",
   "id": "44f8a490-9ff0-4a87-aded-3ac165c2e93f",
   "metadata": {},
   "source": [
    "Decimals"
   ]
  },
  {
   "cell_type": "code",
   "execution_count": 26,
   "id": "fc3c91f0-edb0-4584-864a-eb07f98c8869",
   "metadata": {},
   "outputs": [],
   "source": [
    "from decimal import Decimal,getcontext"
   ]
  },
  {
   "cell_type": "code",
   "execution_count": 24,
   "id": "3a8e30a6-e7b5-4741-a691-3519f926f808",
   "metadata": {},
   "outputs": [
    {
     "data": {
      "text/plain": [
       "Context(prec=4, rounding=ROUND_HALF_EVEN, Emin=-999999, Emax=999999, capitals=1, clamp=0, flags=[], traps=[InvalidOperation, DivisionByZero, Overflow])"
      ]
     },
     "execution_count": 24,
     "metadata": {},
     "output_type": "execute_result"
    }
   ],
   "source": [
    "getcontext()"
   ]
  },
  {
   "cell_type": "code",
   "execution_count": 23,
   "id": "e34579b2-24e5-4e25-a396-ba12611424c5",
   "metadata": {},
   "outputs": [],
   "source": [
    "getcontext().prec=4"
   ]
  },
  {
   "cell_type": "code",
   "execution_count": 28,
   "id": "0fb03f36-5dec-4053-a0e0-25071425e623",
   "metadata": {},
   "outputs": [
    {
     "data": {
      "text/plain": [
       "Decimal('0.3333')"
      ]
     },
     "execution_count": 28,
     "metadata": {},
     "output_type": "execute_result"
    }
   ],
   "source": [
    "Decimal(1)/Decimal(3)"
   ]
  },
  {
   "cell_type": "code",
   "execution_count": 29,
   "id": "1725d272-471e-418b-95ff-22c5071a0271",
   "metadata": {},
   "outputs": [],
   "source": [
    "getcontext().prec=2"
   ]
  },
  {
   "cell_type": "code",
   "execution_count": 30,
   "id": "8ff2f92e-60a8-4a08-bd09-0be2572fdab7",
   "metadata": {},
   "outputs": [
    {
     "data": {
      "text/plain": [
       "Decimal('0.33')"
      ]
     },
     "execution_count": 30,
     "metadata": {},
     "output_type": "execute_result"
    }
   ],
   "source": [
    "Decimal(1)/Decimal(3)"
   ]
  }
 ],
 "metadata": {
  "kernelspec": {
   "display_name": "Python 3 (ipykernel)",
   "language": "python",
   "name": "python3"
  },
  "language_info": {
   "codemirror_mode": {
    "name": "ipython",
    "version": 3
   },
   "file_extension": ".py",
   "mimetype": "text/x-python",
   "name": "python",
   "nbconvert_exporter": "python",
   "pygments_lexer": "ipython3",
   "version": "3.13.0"
  }
 },
 "nbformat": 4,
 "nbformat_minor": 5
}
