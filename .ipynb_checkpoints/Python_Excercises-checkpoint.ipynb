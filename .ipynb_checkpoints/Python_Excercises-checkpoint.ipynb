{
 "cells": [
  {
   "cell_type": "markdown",
   "id": "c964ddb1-11f0-492a-9955-12561a00de4e",
   "metadata": {},
   "source": [
    "# Python Crash Course Exercises "
   ]
  },
  {
   "cell_type": "markdown",
   "id": "449719d7-ce48-4713-9e6f-1ccbe36c1a64",
   "metadata": {},
   "source": [
    "** What is 7 to the power of 4?**"
   ]
  },
  {
   "cell_type": "code",
   "execution_count": 1,
   "id": "a3a9e07c-22b2-422e-8d59-1bc8b8a76dfb",
   "metadata": {},
   "outputs": [
    {
     "data": {
      "text/plain": [
       "2401"
      ]
     },
     "execution_count": 1,
     "metadata": {},
     "output_type": "execute_result"
    }
   ],
   "source": [
    "7**4"
   ]
  },
  {
   "cell_type": "markdown",
   "id": "b43a50b1-3a06-46b8-8f20-d79462e97346",
   "metadata": {},
   "source": [
    "** Split this string:**\n",
    "\n",
    "s = \"Hi there Sam!\"\n",
    " **into a list. **"
   ]
  },
  {
   "cell_type": "code",
   "execution_count": 3,
   "id": "afeeb86d-3a05-4c57-8446-0ad14fd37e72",
   "metadata": {},
   "outputs": [
    {
     "data": {
      "text/plain": [
       "['Hi', 'there', 'Abhi!']"
      ]
     },
     "execution_count": 3,
     "metadata": {},
     "output_type": "execute_result"
    }
   ],
   "source": [
    "s = \"Hi there Abhi!\"\n",
    "s.split()"
   ]
  },
  {
   "cell_type": "markdown",
   "id": "e39c5754-dfc7-4eea-8d66-47d9390b4e24",
   "metadata": {},
   "source": [
    "** Given the variables:**\n",
    "\n",
    "planet = \"Earth\"\n",
    "diameter = 12742\n",
    "** Use .format() to print the following string: **\n",
    "\n",
    "The diameter of Earth is 12742 kilometers."
   ]
  },
  {
   "cell_type": "code",
   "execution_count": null,
   "id": "5e771b27-b26e-42d6-998c-b4825bff4de1",
   "metadata": {},
   "outputs": [],
   "source": [
    "planet = \"Earth\"\n",
    "diameter = 12742"
   ]
  },
  {
   "cell_type": "code",
   "execution_count": 2,
   "id": "4d8a1c6a-97a9-4670-bfee-405e7539c37b",
   "metadata": {},
   "outputs": [
    {
     "name": "stdout",
     "output_type": "stream",
     "text": [
      "The diameter of Earth is 12742 kilometers.\n"
     ]
    }
   ],
   "source": [
    "print(\"The diameter of {} is {} kilometers.\".format(\"Earth\",12742))"
   ]
  },
  {
   "cell_type": "markdown",
   "id": "f9205f8b-4d25-4586-b894-2a1e608a3153",
   "metadata": {},
   "source": [
    "** Given this nested list, use indexing to grab the word \"hello\" **"
   ]
  },
  {
   "cell_type": "code",
   "execution_count": 3,
   "id": "9d5d4368-bd2c-4b05-8693-a4c30dd1189f",
   "metadata": {},
   "outputs": [],
   "source": [
    "lst = [1,2,[3,4],[5,[100,200,['hello']],23,11],1,7]"
   ]
  },
  {
   "cell_type": "code",
   "execution_count": 8,
   "id": "f69a7511-a196-4925-ab71-a7e0fdc99d6f",
   "metadata": {},
   "outputs": [
    {
     "data": {
      "text/plain": [
       "'hello'"
      ]
     },
     "execution_count": 8,
     "metadata": {},
     "output_type": "execute_result"
    }
   ],
   "source": [
    "lst[3][1][2][0]"
   ]
  },
  {
   "cell_type": "markdown",
   "id": "9b9fde6d-15d7-43bc-bf04-9650a0b1b403",
   "metadata": {},
   "source": [
    "** Given this nest dictionary grab the word \"hello\". Be prepared, this will be annoying/tricky **"
   ]
  },
  {
   "cell_type": "code",
   "execution_count": 9,
   "id": "721c5abd-0592-4727-8d46-7e9b868bba78",
   "metadata": {},
   "outputs": [],
   "source": [
    "d = {'k1':[1,2,3,{'tricky':['oh','man','inception',{'target':[1,2,3,'hello']}]}]}"
   ]
  },
  {
   "cell_type": "code",
   "execution_count": 10,
   "id": "b9a06e80-5e5d-4acc-b465-b8707f124ce6",
   "metadata": {},
   "outputs": [
    {
     "data": {
      "text/plain": [
       "'hello'"
      ]
     },
     "execution_count": 10,
     "metadata": {},
     "output_type": "execute_result"
    }
   ],
   "source": [
    "d['k1'][3]['tricky'][3]['target'][3]"
   ]
  },
  {
   "cell_type": "markdown",
   "id": "e0fe5f30-7d71-45d2-90cd-40223b42635f",
   "metadata": {},
   "source": [
    "** Create a function that grabs the email website domain from a string in the form: **\n",
    "\n",
    "user@domain.com\n",
    "So for example, passing \"user@domain.com\" would return: domain.com"
   ]
  },
  {
   "cell_type": "code",
   "execution_count": 11,
   "id": "29fb8540-8ad1-4192-98c7-fd8d34f8db49",
   "metadata": {},
   "outputs": [],
   "source": [
    "def domain_name(email_id):\n",
    "    return email_id.split('@')[1]"
   ]
  },
  {
   "cell_type": "code",
   "execution_count": 12,
   "id": "81760f75-c4c8-4619-ad0e-16b505d689b8",
   "metadata": {},
   "outputs": [
    {
     "name": "stdout",
     "output_type": "stream",
     "text": [
      "domain.com\n"
     ]
    }
   ],
   "source": [
    "print(domain_name(\"user@domain.com\"))"
   ]
  },
  {
   "cell_type": "markdown",
   "id": "b755448d-7f86-4594-837f-4fa370f06d68",
   "metadata": {},
   "source": [
    "** Create a basic function that returns True if the word 'dog' is contained in the input string. Don't worry about edge cases like a punctuation being attached to the word dog, but do account for capitalization. **"
   ]
  },
  {
   "cell_type": "code",
   "execution_count": 19,
   "id": "6f9abb0b-4fa3-40f7-ac5b-a0951c687f21",
   "metadata": {},
   "outputs": [],
   "source": [
    "def func_dog(my_str):\n",
    "    return 'dog' in my_str"
   ]
  },
  {
   "cell_type": "code",
   "execution_count": 20,
   "id": "4cf98d6c-77b2-427d-acfc-6e224200bda8",
   "metadata": {},
   "outputs": [
    {
     "data": {
      "text/plain": [
       "True"
      ]
     },
     "execution_count": 20,
     "metadata": {},
     "output_type": "execute_result"
    }
   ],
   "source": [
    "func_dog(\"Create a basic function that returns True if the word 'dog' is contained in the input string. Don't worry about edge cases like a punctuation being attached to the word , but do account for capitalization.\")"
   ]
  }
 ],
 "metadata": {
  "kernelspec": {
   "display_name": "Python 3 (ipykernel)",
   "language": "python",
   "name": "python3"
  },
  "language_info": {
   "codemirror_mode": {
    "name": "ipython",
    "version": 3
   },
   "file_extension": ".py",
   "mimetype": "text/x-python",
   "name": "python",
   "nbconvert_exporter": "python",
   "pygments_lexer": "ipython3",
   "version": "3.12.7"
  }
 },
 "nbformat": 4,
 "nbformat_minor": 5
}
