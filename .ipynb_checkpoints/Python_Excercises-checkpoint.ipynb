{
 "cells": [
  {
   "cell_type": "markdown",
   "id": "c964ddb1-11f0-492a-9955-12561a00de4e",
   "metadata": {},
   "source": [
    "# Python Crash Course Exercises "
   ]
  },
  {
   "cell_type": "markdown",
   "id": "449719d7-ce48-4713-9e6f-1ccbe36c1a64",
   "metadata": {},
   "source": [
    "** What is 7 to the power of 4?**"
   ]
  },
  {
   "cell_type": "code",
   "execution_count": 1,
   "id": "a3a9e07c-22b2-422e-8d59-1bc8b8a76dfb",
   "metadata": {},
   "outputs": [
    {
     "data": {
      "text/plain": [
       "2401"
      ]
     },
     "execution_count": 1,
     "metadata": {},
     "output_type": "execute_result"
    }
   ],
   "source": [
    "7**4"
   ]
  },
  {
   "cell_type": "markdown",
   "id": "b43a50b1-3a06-46b8-8f20-d79462e97346",
   "metadata": {},
   "source": [
    "** Split this string:**\n",
    "\n",
    "s = \"Hi there Sam!\"\n",
    " **into a list. **"
   ]
  },
  {
   "cell_type": "code",
   "execution_count": 3,
   "id": "afeeb86d-3a05-4c57-8446-0ad14fd37e72",
   "metadata": {},
   "outputs": [
    {
     "data": {
      "text/plain": [
       "['Hi', 'there', 'Abhi!']"
      ]
     },
     "execution_count": 3,
     "metadata": {},
     "output_type": "execute_result"
    }
   ],
   "source": [
    "s = \"Hi there Abhi!\"\n",
    "s.split()"
   ]
  },
  {
   "cell_type": "markdown",
   "id": "e39c5754-dfc7-4eea-8d66-47d9390b4e24",
   "metadata": {},
   "source": [
    "** Given the variables:**\n",
    "\n",
    "planet = \"Earth\"\n",
    "diameter = 12742\n",
    "** Use .format() to print the following string: **\n",
    "\n",
    "The diameter of Earth is 12742 kilometers."
   ]
  },
  {
   "cell_type": "code",
   "execution_count": null,
   "id": "5e771b27-b26e-42d6-998c-b4825bff4de1",
   "metadata": {},
   "outputs": [],
   "source": [
    "planet = \"Earth\"\n",
    "diameter = 12742"
   ]
  },
  {
   "cell_type": "code",
   "execution_count": 2,
   "id": "4d8a1c6a-97a9-4670-bfee-405e7539c37b",
   "metadata": {},
   "outputs": [
    {
     "name": "stdout",
     "output_type": "stream",
     "text": [
      "The diameter of Earth is 12742 kilometers.\n"
     ]
    }
   ],
   "source": [
    "print(\"The diameter of {} is {} kilometers.\".format(\"Earth\",12742))"
   ]
  },
  {
   "cell_type": "markdown",
   "id": "f9205f8b-4d25-4586-b894-2a1e608a3153",
   "metadata": {},
   "source": [
    "** Given this nested list, use indexing to grab the word \"hello\" **"
   ]
  },
  {
   "cell_type": "code",
   "execution_count": 3,
   "id": "9d5d4368-bd2c-4b05-8693-a4c30dd1189f",
   "metadata": {},
   "outputs": [],
   "source": [
    "lst = [1,2,[3,4],[5,[100,200,['hello']],23,11],1,7]"
   ]
  },
  {
   "cell_type": "code",
   "execution_count": 8,
   "id": "f69a7511-a196-4925-ab71-a7e0fdc99d6f",
   "metadata": {},
   "outputs": [
    {
     "data": {
      "text/plain": [
       "'hello'"
      ]
     },
     "execution_count": 8,
     "metadata": {},
     "output_type": "execute_result"
    }
   ],
   "source": [
    "lst[3][1][2][0]"
   ]
  },
  {
   "cell_type": "markdown",
   "id": "9b9fde6d-15d7-43bc-bf04-9650a0b1b403",
   "metadata": {},
   "source": [
    "** Given this nest dictionary grab the word \"hello\". Be prepared, this will be annoying/tricky **"
   ]
  },
  {
   "cell_type": "code",
   "execution_count": 9,
   "id": "721c5abd-0592-4727-8d46-7e9b868bba78",
   "metadata": {},
   "outputs": [],
   "source": [
    "d = {'k1':[1,2,3,{'tricky':['oh','man','inception',{'target':[1,2,3,'hello']}]}]}"
   ]
  },
  {
   "cell_type": "code",
   "execution_count": 10,
   "id": "b9a06e80-5e5d-4acc-b465-b8707f124ce6",
   "metadata": {},
   "outputs": [
    {
     "data": {
      "text/plain": [
       "'hello'"
      ]
     },
     "execution_count": 10,
     "metadata": {},
     "output_type": "execute_result"
    }
   ],
   "source": [
    "d['k1'][3]['tricky'][3]['target'][3]"
   ]
  },
  {
   "cell_type": "markdown",
   "id": "e0fe5f30-7d71-45d2-90cd-40223b42635f",
   "metadata": {},
   "source": [
    "** Create a function that grabs the email website domain from a string in the form: **\n",
    "\n",
    "user@domain.com\n",
    "So for example, passing \"user@domain.com\" would return: domain.com"
   ]
  },
  {
   "cell_type": "code",
   "execution_count": 11,
   "id": "29fb8540-8ad1-4192-98c7-fd8d34f8db49",
   "metadata": {},
   "outputs": [],
   "source": [
    "def domain_name(email_id):\n",
    "    return email_id.split('@')[1]"
   ]
  },
  {
   "cell_type": "code",
   "execution_count": 12,
   "id": "81760f75-c4c8-4619-ad0e-16b505d689b8",
   "metadata": {},
   "outputs": [
    {
     "name": "stdout",
     "output_type": "stream",
     "text": [
      "domain.com\n"
     ]
    }
   ],
   "source": [
    "print(domain_name(\"user@domain.com\"))"
   ]
  },
  {
   "cell_type": "markdown",
   "id": "b755448d-7f86-4594-837f-4fa370f06d68",
   "metadata": {},
   "source": [
    "** Create a basic function that returns True if the word 'dog' is contained in the input string. Don't worry about edge cases like a punctuation being attached to the word dog, but do account for capitalization. **"
   ]
  },
  {
   "cell_type": "code",
   "execution_count": 5,
   "id": "6f9abb0b-4fa3-40f7-ac5b-a0951c687f21",
   "metadata": {},
   "outputs": [],
   "source": [
    "def func_dog(my_str):\n",
    "    return 'dog' in my_str"
   ]
  },
  {
   "cell_type": "code",
   "execution_count": 6,
   "id": "4cf98d6c-77b2-427d-acfc-6e224200bda8",
   "metadata": {},
   "outputs": [
    {
     "data": {
      "text/plain": [
       "True"
      ]
     },
     "execution_count": 6,
     "metadata": {},
     "output_type": "execute_result"
    }
   ],
   "source": [
    "func_dog(\"Create a basic function that returns True if the word 'dog' is contained in the input string. Don't worry about edge cases like a punctuation being attached to the word , but do account for capitalization.\")"
   ]
  },
  {
   "cell_type": "markdown",
   "id": "a40bfe3d-7f88-447a-b32b-8629ca03eb3e",
   "metadata": {},
   "source": [
    "#### Factorial Challenge"
   ]
  },
  {
   "cell_type": "code",
   "execution_count": 2,
   "id": "fe50fc3e-faa5-4fdc-b9a8-9a6fc9eff6c3",
   "metadata": {},
   "outputs": [],
   "source": [
    "# Based on above two example codes and considering recursive method of coding, lets implement the solution.\n",
    "\n",
    "def factorial(n):\n",
    "    # Check the type of the input 'n'\n",
    "    if type(n) == int:\n",
    "        if n == 1 or n == 0:\n",
    "            return 1\n",
    "        elif n < 0 :\n",
    "            return -1\n",
    "        else:\n",
    "            return n * factorial(n-1)\n",
    "    return None"
   ]
  },
  {
   "cell_type": "code",
   "execution_count": 3,
   "id": "0b3b4d76-ca30-4e53-90e9-8558a8de5b8e",
   "metadata": {},
   "outputs": [
    {
     "data": {
      "text/plain": [
       "3628800"
      ]
     },
     "execution_count": 3,
     "metadata": {},
     "output_type": "execute_result"
    }
   ],
   "source": [
    "\n",
    "factorial(10)"
   ]
  },
  {
   "cell_type": "markdown",
   "id": "1e259426-ca06-4d73-8fa9-54aa2f39cc66",
   "metadata": {},
   "source": [
    "Given two integer variables a and b, and a boolean variable flag. The task is to check the status and return accordingly.\n",
    "Return True for the following cases:\n",
    "\n",
    "Either a or b (not both) is non-negative and the flag is false.\n",
    "Both a and b are negative and the flag is true.\n",
    "Otherwise, return false."
   ]
  },
  {
   "cell_type": "code",
   "execution_count": 9,
   "id": "df33b6f6-26ae-49a1-9cea-74471f9401f8",
   "metadata": {},
   "outputs": [],
   "source": [
    "def check_status(a,b,flag):\n",
    "    if a < 0 and b < 0 and flag:\n",
    "        return False\n",
    "    elif a < 0 or b < 0 and not flag:\n",
    "        return True\n",
    "    else:\n",
    "        return False"
   ]
  },
  {
   "cell_type": "code",
   "execution_count": 11,
   "id": "4de03ce6-7a67-4094-9731-ceec9d18bbf4",
   "metadata": {},
   "outputs": [
    {
     "data": {
      "text/plain": [
       "True"
      ]
     },
     "execution_count": 11,
     "metadata": {},
     "output_type": "execute_result"
    }
   ],
   "source": [
    "check_status(1,-1,False)"
   ]
  },
  {
   "cell_type": "code",
   "execution_count": 12,
   "id": "096c5d4c-fc00-41a4-ab37-cab038b6f380",
   "metadata": {},
   "outputs": [
    {
     "data": {
      "text/plain": [
       "False"
      ]
     },
     "execution_count": 12,
     "metadata": {},
     "output_type": "execute_result"
    }
   ],
   "source": [
    "check_status(1,-1,True)"
   ]
  },
  {
   "cell_type": "code",
   "execution_count": 1,
   "id": "ff701e3b-536b-46f2-b992-24955061022e",
   "metadata": {},
   "outputs": [],
   "source": [
    "def check_max(a,b):\n",
    "    if a < b:\n",
    "        return b\n",
    "    return a"
   ]
  },
  {
   "cell_type": "code",
   "execution_count": 3,
   "id": "e3163611-b41b-4e8f-b023-ca03b5ad080e",
   "metadata": {},
   "outputs": [
    {
     "data": {
      "text/plain": [
       "4"
      ]
     },
     "execution_count": 3,
     "metadata": {},
     "output_type": "execute_result"
    }
   ],
   "source": [
    "check_max(3,4)"
   ]
  },
  {
   "cell_type": "code",
   "execution_count": 4,
   "id": "4c5ea6a4-49b8-471e-8509-46215e9f8bce",
   "metadata": {},
   "outputs": [
    {
     "data": {
      "text/plain": [
       "4"
      ]
     },
     "execution_count": 4,
     "metadata": {},
     "output_type": "execute_result"
    }
   ],
   "source": [
    "check_max(4,3)"
   ]
  },
  {
   "cell_type": "markdown",
   "id": "145395d6-72b7-41eb-9b5b-da9ca6ddae3e",
   "metadata": {},
   "source": [
    "Reverse the words in the given string program "
   ]
  },
  {
   "cell_type": "code",
   "execution_count": 2,
   "id": "9add6790-0df0-46ee-9243-7562607c1676",
   "metadata": {},
   "outputs": [
    {
     "name": "stdout",
     "output_type": "stream",
     "text": [
      "person good a am I\n"
     ]
    }
   ],
   "source": [
    "# Python code\n",
    "# To reverse words in a given string\n",
    "\n",
    "# input string\n",
    "string = \"I am a good person\"\n",
    "# reversing words in a given string\n",
    "s = string.split()[::-1]\n",
    "l = []\n",
    "for i in s:\n",
    "\t# appending reversed words to l\n",
    "\tl.append(i)\n",
    "# printing reverse words\n",
    "print(\" \".join(l))\n"
   ]
  },
  {
   "cell_type": "markdown",
   "id": "aada4c11-3458-426e-9440-5173881d4040",
   "metadata": {},
   "source": [
    "Sorting Dictionary By Key Using sort()"
   ]
  },
  {
   "cell_type": "code",
   "execution_count": 7,
   "id": "357e261b-654b-44ae-9ff7-a0a96c2123e3",
   "metadata": {},
   "outputs": [
    {
     "name": "stdout",
     "output_type": "stream",
     "text": [
      "{'rajnish': 9, 'ravi': 10, 'sanjeev': 15}\n"
     ]
    }
   ],
   "source": [
    "d = {'ravi': 10, 'rajnish': 9, 'sanjeev': 15}\n",
    "\n",
    "myKeys = list(d.keys())\n",
    "myKeys.sort()\n",
    "\n",
    "# Sorted Dictionary\n",
    "sd = {i: d[i] for i in myKeys}\n",
    "print(sd)"
   ]
  },
  {
   "cell_type": "code",
   "execution_count": 10,
   "id": "6f6808b4-5500-4f3b-ba09-72a9ac747dec",
   "metadata": {},
   "outputs": [
    {
     "name": "stdout",
     "output_type": "stream",
     "text": [
      "['rajnish', 'ravi', 'sanjeev']\n"
     ]
    },
    {
     "data": {
      "text/plain": [
       "{'rajnish': 9, 'ravi': 10, 'sanjeev': 15}"
      ]
     },
     "execution_count": 10,
     "metadata": {},
     "output_type": "execute_result"
    }
   ],
   "source": [
    "print(myKeys)\n",
    "sd"
   ]
  },
  {
   "cell_type": "code",
   "execution_count": 1,
   "id": "1afa968f-52bd-4136-b694-96895cedebaa",
   "metadata": {},
   "outputs": [
    {
     "name": "stdout",
     "output_type": "stream",
     "text": [
      "65\n"
     ]
    }
   ],
   "source": [
    "sets = set([8, 16, 24, 1, 25, 3, 10, 65, 55])\n",
    "print(max(sets))"
   ]
  },
  {
   "cell_type": "code",
   "execution_count": 2,
   "id": "a3a17e61-c3da-4427-bbce-6091fb7321b4",
   "metadata": {},
   "outputs": [
    {
     "name": "stdout",
     "output_type": "stream",
     "text": [
      "1\n"
     ]
    }
   ],
   "source": [
    "print(min(sets))"
   ]
  },
  {
   "cell_type": "markdown",
   "id": "c9a799fd-83ff-46b2-a0f2-4a582dbc4bb8",
   "metadata": {},
   "source": [
    "Check if two lists have at-least one element common"
   ]
  },
  {
   "cell_type": "code",
   "execution_count": 1,
   "id": "79c3f662-63ba-49b0-ba55-b2816a1812e5",
   "metadata": {},
   "outputs": [
    {
     "name": "stdout",
     "output_type": "stream",
     "text": [
      "True\n",
      "False\n"
     ]
    }
   ],
   "source": [
    "# Python program to check \n",
    "# if two lists have at-least \n",
    "# one element common\n",
    "# using set and property\n",
    "\n",
    "def common_member(a, b):\n",
    "\ta_set = set(a)\n",
    "\tb_set = set(b)\n",
    "\tif (a_set & b_set):\n",
    "\t\treturn True\n",
    "\telse:\n",
    "\t\treturn False\n",
    "\t\t\n",
    "\n",
    "a = [1, 2, 3, 4, 5]\n",
    "b = [5, 6, 7, 8, 9]\n",
    "print(common_member(a, b))\n",
    "\n",
    "a =[1, 2, 3, 4, 5]\n",
    "b =[6, 7, 8, 9]\n",
    "print(common_member(a, b))\n"
   ]
  },
  {
   "cell_type": "markdown",
   "id": "ccbf3bd1-43cf-47d3-aaaf-919c236e4276",
   "metadata": {},
   "source": [
    "Given a string consisting of lowercase letters, arrange all its letters in ascending order. "
   ]
  },
  {
   "cell_type": "markdown",
   "id": "7a7a16d5-e791-4f6e-ba54-32f7b0e38e5d",
   "metadata": {},
   "source": [
    "Input:\n",
    "S = \"edcab\"\n",
    "Output: \"abcde\"\n",
    "Explanation: characters are in ascending\n",
    "order in \"abcde\"."
   ]
  },
  {
   "cell_type": "code",
   "execution_count": 1,
   "id": "44dbfac6-e3cc-4b25-88ed-7561d7df07b4",
   "metadata": {},
   "outputs": [],
   "source": [
    "S = \"edcab\""
   ]
  },
  {
   "cell_type": "code",
   "execution_count": 5,
   "id": "bbb6592b-eebb-4574-b0bf-13c270d95e7a",
   "metadata": {},
   "outputs": [],
   "source": [
    "a = []\n",
    "for c in S:\n",
    "    a.append(c)"
   ]
  },
  {
   "cell_type": "code",
   "execution_count": 6,
   "id": "251c5c4d-baf9-4c13-b2dd-3c7fa3c76a6c",
   "metadata": {},
   "outputs": [
    {
     "data": {
      "text/plain": [
       "['e', 'd', 'c', 'a', 'b']"
      ]
     },
     "execution_count": 6,
     "metadata": {},
     "output_type": "execute_result"
    }
   ],
   "source": [
    "a"
   ]
  },
  {
   "cell_type": "code",
   "execution_count": 7,
   "id": "7fb2cbe7-4a15-4c05-8594-a9667366af4e",
   "metadata": {},
   "outputs": [],
   "source": [
    "a.sort()"
   ]
  },
  {
   "cell_type": "code",
   "execution_count": 8,
   "id": "65ba3470-9563-4d64-8489-3643da467b95",
   "metadata": {},
   "outputs": [
    {
     "data": {
      "text/plain": [
       "['a', 'b', 'c', 'd', 'e']"
      ]
     },
     "execution_count": 8,
     "metadata": {},
     "output_type": "execute_result"
    }
   ],
   "source": [
    "a"
   ]
  },
  {
   "cell_type": "code",
   "execution_count": 11,
   "id": "27f78a2a-a40c-466d-b974-b17cb8afd6d5",
   "metadata": {},
   "outputs": [],
   "source": [
    "result = ''\n",
    "for c in a:\n",
    "    result += c"
   ]
  },
  {
   "cell_type": "code",
   "execution_count": 12,
   "id": "d326aab6-7585-433a-acda-af69cd2c5474",
   "metadata": {},
   "outputs": [
    {
     "data": {
      "text/plain": [
       "'abcde'"
      ]
     },
     "execution_count": 12,
     "metadata": {},
     "output_type": "execute_result"
    }
   ],
   "source": [
    "result"
   ]
  },
  {
   "cell_type": "markdown",
   "id": "b143bcab-1834-4c01-b8ee-8c7311f0155e",
   "metadata": {},
   "source": [
    "Given a list, write a Python program to swap the first and last element of the list using Python"
   ]
  },
  {
   "cell_type": "code",
   "execution_count": 1,
   "id": "4953213d-d597-41a6-924d-3fb75fede443",
   "metadata": {},
   "outputs": [
    {
     "name": "stdout",
     "output_type": "stream",
     "text": [
      "List after swapping first and last elements: [5, 2, 3, 4, 1]\n"
     ]
    }
   ],
   "source": [
    "# Initialize a list\n",
    "my_list = [1, 2, 3, 4, 5]\n",
    "\n",
    "# Interchange first and last elements\n",
    "my_list[0], my_list[-1] = my_list[-1], my_list[0]\n",
    "\n",
    "# Print the modified list\n",
    "print(\"List after swapping first and last elements:\", my_list)"
   ]
  },
  {
   "cell_type": "markdown",
   "id": "1937ddc2-eccb-46fe-b4c6-51a2e5a1ee82",
   "metadata": {},
   "source": [
    "Given a String, perform uppercase of the later part of the string."
   ]
  },
  {
   "cell_type": "markdown",
   "id": "d45c928b-e351-475d-be85-ea646b8de4e3",
   "metadata": {},
   "source": [
    "Input : test_str = 'geeksforgeek' \n",
    "Output : geeksfORGEEK \n",
    "Explanation : Latter half of string is uppercased."
   ]
  },
  {
   "cell_type": "code",
   "execution_count": 13,
   "id": "d04b3f18-ee52-4090-a0b9-e93f61275b26",
   "metadata": {},
   "outputs": [
    {
     "name": "stdout",
     "output_type": "stream",
     "text": [
      "geeksf\n",
      "orgeek\n",
      "geeksfORGEEK\n"
     ]
    }
   ],
   "source": [
    "test_str = 'geeksforgeek'\n",
    "\n",
    "\n",
    "first_half = test_str[:int((len(test_str))/2)]\n",
    "second_half = test_str[int((len(test_str))/2):]\n",
    "print(first_half)\n",
    "print(second_half)\n",
    "print(first_half + second_half.upper())"
   ]
  }
 ],
 "metadata": {
  "kernelspec": {
   "display_name": "Python 3 (ipykernel)",
   "language": "python",
   "name": "python3"
  },
  "language_info": {
   "codemirror_mode": {
    "name": "ipython",
    "version": 3
   },
   "file_extension": ".py",
   "mimetype": "text/x-python",
   "name": "python",
   "nbconvert_exporter": "python",
   "pygments_lexer": "ipython3",
   "version": "3.12.7"
  }
 },
 "nbformat": 4,
 "nbformat_minor": 5
}
