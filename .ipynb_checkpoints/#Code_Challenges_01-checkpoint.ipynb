{
 "cells": [
  {
   "cell_type": "markdown",
   "id": "e35d8407-3b78-45c6-bbd2-dd34808de11b",
   "metadata": {
    "jp-MarkdownHeadingCollapsed": true
   },
   "source": [
    "## Factorial Challenge"
   ]
  },
  {
   "cell_type": "markdown",
   "id": "a8267c8f-32c4-47c6-a9e3-2aeb968a21ae",
   "metadata": {},
   "source": [
    "The factorial function gives the number of possible arrangements of a set of items of length \"n\"\n",
    "\n",
    "For example, there are 4! (\"four factorial\") or 24 ways to arrange four items, which can be calculated as: \n",
    "4 \\* 3 \\* 2 \\* 1\n",
    "\n",
    "5! = 5 \\* 4 \\* 3 \\* 2 \\* 1 = 120\n",
    "\n",
    "6! = 6 \\* 5 \\* 4 \\* 3 \\* 2 \\* 1 = 720\n",
    "\n",
    "etc.\n",
    "\n",
    "In a set of 0 items (an empty set) there is only one way to arrange the items, therefore, 0! = 1\n",
    "\n",
    "For the purposes of this exercise, factorials are only defined for **positive integers** (including 0)"
   ]
  },
  {
   "cell_type": "markdown",
   "id": "8e2609b8-7254-492a-a43b-1008a846c01f",
   "metadata": {
    "jp-MarkdownHeadingCollapsed": true
   },
   "source": [
    "# Implementation"
   ]
  },
  {
   "cell_type": "code",
   "execution_count": 30,
   "id": "01b4543f-fef9-48c4-8755-f6241d4a4cc3",
   "metadata": {},
   "outputs": [
    {
     "name": "stdout",
     "output_type": "stream",
     "text": [
      "18\n",
      "-1\n",
      "1\n"
     ]
    }
   ],
   "source": [
    "# Taking test cases like 1! = 1, 0! = 1 and \n",
    "#    if number is less than 0 we return -1 \n",
    "#    else if the input is invalid like other than number \n",
    "\n",
    "def checkthevalue(number):\n",
    "    if number == 1 or number == 0:\n",
    "            return 1\n",
    "    elif number < 0 :\n",
    "        return -1\n",
    "    else:\n",
    "        return number\n",
    "print(checkthevalue(18))\n",
    "print(checkthevalue(-9))\n",
    "print(checkthevalue(0))"
   ]
  },
  {
   "cell_type": "code",
   "execution_count": 31,
   "id": "97a50b8d-3a74-4973-8746-ca4fef8ee00a",
   "metadata": {},
   "outputs": [
    {
     "name": "stdout",
     "output_type": "stream",
     "text": [
      "9\n",
      "None\n"
     ]
    }
   ],
   "source": [
    "#Checking type of the input if it is int \n",
    "\n",
    "def checktype(number):\n",
    "    if type(number) == int:\n",
    "        return number\n",
    "    return None\n",
    "print(checktype(9))\n",
    "print(checktype('Abhi'))"
   ]
  },
  {
   "cell_type": "markdown",
   "id": "c06dc22a-c22d-4515-ad5a-77ad6d455b6c",
   "metadata": {},
   "source": [
    "# Solution"
   ]
  },
  {
   "cell_type": "code",
   "execution_count": 32,
   "id": "5c113173-f878-4ddf-8862-2f05bc5933fd",
   "metadata": {},
   "outputs": [],
   "source": [
    "# Based on above two example codes and considering recursive method of coding, lets implement the solution.\n",
    "\n",
    "def factorial(n):\n",
    "    # Check the type of the input 'n'\n",
    "    if type(n) == int:\n",
    "        if n == 1 or n == 0:\n",
    "            return 1\n",
    "        elif n < 0 :\n",
    "            return -1\n",
    "        else:\n",
    "            return n * factorial(n-1)\n",
    "    return None\n",
    "    "
   ]
  },
  {
   "cell_type": "markdown",
   "id": "6d479f59-bf6a-467f-a69d-b191b471c078",
   "metadata": {},
   "source": [
    "## Test cases"
   ]
  },
  {
   "cell_type": "code",
   "execution_count": 33,
   "id": "2b4f4cc5-aa07-47c1-86d0-c0c9a63cf443",
   "metadata": {},
   "outputs": [
    {
     "name": "stdout",
     "output_type": "stream",
     "text": [
      "1307674368000\n"
     ]
    }
   ],
   "source": [
    "print(factorial(15))"
   ]
  },
  {
   "cell_type": "code",
   "execution_count": 34,
   "id": "be2598eb-b45c-4ddf-8b5e-b503f1e5c9c7",
   "metadata": {},
   "outputs": [
    {
     "name": "stdout",
     "output_type": "stream",
     "text": [
      "None\n"
     ]
    }
   ],
   "source": [
    "print(factorial('spam spam'))"
   ]
  },
  {
   "cell_type": "code",
   "execution_count": 35,
   "id": "8804fcbb-921a-4f8f-97c4-a9f488b1a492",
   "metadata": {},
   "outputs": [
    {
     "name": "stdout",
     "output_type": "stream",
     "text": [
      "None\n"
     ]
    }
   ],
   "source": [
    "print(factorial(1.2))"
   ]
  },
  {
   "cell_type": "code",
   "execution_count": null,
   "id": "f989d190-aa26-46ac-91fa-f420ee2bd052",
   "metadata": {},
   "outputs": [],
   "source": []
  }
 ],
 "metadata": {
  "kernelspec": {
   "display_name": "Python 3 (ipykernel)",
   "language": "python",
   "name": "python3"
  },
  "language_info": {
   "codemirror_mode": {
    "name": "ipython",
    "version": 3
   },
   "file_extension": ".py",
   "mimetype": "text/x-python",
   "name": "python",
   "nbconvert_exporter": "python",
   "pygments_lexer": "ipython3",
   "version": "3.13.0"
  }
 },
 "nbformat": 4,
 "nbformat_minor": 5
}
