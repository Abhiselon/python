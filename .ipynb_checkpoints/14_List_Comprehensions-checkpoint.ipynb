{
 "cells": [
  {
   "cell_type": "markdown",
   "id": "764ed5ff-0382-4e8c-86df-ac1cc20fd8c7",
   "metadata": {},
   "source": [
    "#### List Comprehensions"
   ]
  },
  {
   "cell_type": "code",
   "execution_count": 2,
   "id": "788be725-c902-4109-9566-4d6cc6f456df",
   "metadata": {},
   "outputs": [
    {
     "data": {
      "text/plain": [
       "[2, 4, 6, 8, 10]"
      ]
     },
     "execution_count": 2,
     "metadata": {},
     "output_type": "execute_result"
    }
   ],
   "source": [
    "myList = [1,2,3,4,5]\n",
    "[2*item for item in myList]"
   ]
  },
  {
   "cell_type": "code",
   "execution_count": 4,
   "id": "69ae9fd0-88c0-43e5-b77c-0062c95953b5",
   "metadata": {},
   "outputs": [
    {
     "data": {
      "text/plain": [
       "[0, 10, 20, 30, 40, 50, 60, 70, 80, 90]"
      ]
     },
     "execution_count": 4,
     "metadata": {},
     "output_type": "execute_result"
    }
   ],
   "source": [
    "myList = list(range(100))\n",
    "filteredList = [item for item in myList if item % 10 == 0]\n",
    "filteredList"
   ]
  },
  {
   "cell_type": "code",
   "execution_count": 9,
   "id": "119a532e-9c5b-4419-a44c-b81ae94ab820",
   "metadata": {},
   "outputs": [
    {
     "data": {
      "text/plain": [
       "[0, 1, 10, 11, 20, 21, 30, 31, 40, 41, 50, 51, 60, 61, 70, 71, 80, 81, 90, 91]"
      ]
     },
     "execution_count": 9,
     "metadata": {},
     "output_type": "execute_result"
    }
   ],
   "source": [
    "filteredList = [item for item in myList if item % 10 < 2]\n",
    "filteredList"
   ]
  },
  {
   "cell_type": "code",
   "execution_count": 10,
   "id": "22e6e030-4364-4eb5-9871-8b505a2ffed0",
   "metadata": {},
   "outputs": [
    {
     "data": {
      "text/plain": [
       "['My', 'name', 'is', 'Abhishek.', 'I', 'live', 'in', 'Bengaluru']"
      ]
     },
     "execution_count": 10,
     "metadata": {},
     "output_type": "execute_result"
    }
   ],
   "source": [
    "myString  = ' My name is Abhishek. I live in  Bengaluru ' \n",
    "myString.split()"
   ]
  },
  {
   "cell_type": "code",
   "execution_count": 12,
   "id": "ce95bd22-b5ff-41c4-8024-fc5a7eb3a71a",
   "metadata": {},
   "outputs": [
    {
     "data": {
      "text/plain": [
       "['my', 'name', 'is', 'abhishek ', 'i', 'live', 'in', 'bengaluru']"
      ]
     },
     "execution_count": 12,
     "metadata": {},
     "output_type": "execute_result"
    }
   ],
   "source": [
    "def cleanWord(word):\n",
    "    return word.replace('.',' ').lower()\n",
    "\n",
    "[cleanWord(word) for word in myString.split()]"
   ]
  },
  {
   "cell_type": "code",
   "execution_count": 14,
   "id": "a04eaf72-2b41-4b24-8455-3689a7a6f7c5",
   "metadata": {},
   "outputs": [
    {
     "data": {
      "text/plain": [
       "['my', 'is', 'i', 'in']"
      ]
     },
     "execution_count": 14,
     "metadata": {},
     "output_type": "execute_result"
    }
   ],
   "source": [
    "[cleanWord(word) for word in myString.split() if len(cleanWord(word)) < 3]"
   ]
  },
  {
   "cell_type": "code",
   "execution_count": 18,
   "id": "86cc3870-0139-4ee9-8fd8-4b8ca39b82a8",
   "metadata": {},
   "outputs": [
    {
     "data": {
      "text/plain": [
       "[['my', 'name', 'is', 'abhishek'], ['i', 'live', 'in', 'bengaluru']]"
      ]
     },
     "execution_count": 18,
     "metadata": {},
     "output_type": "execute_result"
    }
   ],
   "source": [
    "[[cleanWord(word) for word in sentence.split()] for sentence in  myString.split('.')]"
   ]
  },
  {
   "cell_type": "code",
   "execution_count": 19,
   "id": "3bfc2586-3fac-415c-8c50-3be4dfff3acb",
   "metadata": {},
   "outputs": [
    {
     "ename": "SyntaxError",
     "evalue": "invalid syntax (3582949345.py, line 1)",
     "output_type": "error",
     "traceback": [
      "\u001b[1;36m  Cell \u001b[1;32mIn[19], line 1\u001b[1;36m\u001b[0m\n\u001b[1;33m    [for sentence in  myString.split('.') [cleanWord(word) for word in sentence.split()] ]\u001b[0m\n\u001b[1;37m     ^\u001b[0m\n\u001b[1;31mSyntaxError\u001b[0m\u001b[1;31m:\u001b[0m invalid syntax\n"
     ]
    }
   ],
   "source": [
    "[for sentence in  myString.split('.') [cleanWord(word) for word in sentence.split()] ]"
   ]
  },
  {
   "cell_type": "code",
   "execution_count": 20,
   "id": "b73406d1-2e07-4bf7-b572-429015612812",
   "metadata": {},
   "outputs": [
    {
     "ename": "NameError",
     "evalue": "name 'sentence' is not defined",
     "output_type": "error",
     "traceback": [
      "\u001b[1;31m---------------------------------------------------------------------------\u001b[0m",
      "\u001b[1;31mNameError\u001b[0m                                 Traceback (most recent call last)",
      "Cell \u001b[1;32mIn[20], line 1\u001b[0m\n\u001b[1;32m----> 1\u001b[0m [cleanWord(word) \u001b[38;5;28;01mfor\u001b[39;00m word \u001b[38;5;129;01min\u001b[39;00m \u001b[43msentence\u001b[49m\u001b[38;5;241m.\u001b[39msplit() \u001b[38;5;28;01mfor\u001b[39;00m sentence \u001b[38;5;129;01min\u001b[39;00m  myString\u001b[38;5;241m.\u001b[39msplit(\u001b[38;5;124m'\u001b[39m\u001b[38;5;124m.\u001b[39m\u001b[38;5;124m'\u001b[39m)]\n",
      "\u001b[1;31mNameError\u001b[0m: name 'sentence' is not defined"
     ]
    }
   ],
   "source": [
    "[cleanWord(word) for word in sentence.split() for sentence in  myString.split('.')]"
   ]
  }
 ],
 "metadata": {
  "kernelspec": {
   "display_name": "Python 3 (ipykernel)",
   "language": "python",
   "name": "python3"
  },
  "language_info": {
   "codemirror_mode": {
    "name": "ipython",
    "version": 3
   },
   "file_extension": ".py",
   "mimetype": "text/x-python",
   "name": "python",
   "nbconvert_exporter": "python",
   "pygments_lexer": "ipython3",
   "version": "3.13.0"
  }
 },
 "nbformat": 4,
 "nbformat_minor": 5
}
