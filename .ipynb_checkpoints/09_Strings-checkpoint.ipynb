{
 "cells": [
  {
   "cell_type": "markdown",
   "id": "ca5b5f5a-da97-48a9-9a9b-75f5e581fa1b",
   "metadata": {},
   "source": [
    "#### Slicing"
   ]
  },
  {
   "cell_type": "code",
   "execution_count": 1,
   "id": "6545ad99-6014-4372-8ade-08c8fc98e059",
   "metadata": {},
   "outputs": [],
   "source": [
    "name = 'My name is abhi'"
   ]
  },
  {
   "cell_type": "code",
   "execution_count": 2,
   "id": "d96f6cfb-4044-4257-a65d-9c38c5b044ae",
   "metadata": {},
   "outputs": [
    {
     "data": {
      "text/plain": [
       "'M'"
      ]
     },
     "execution_count": 2,
     "metadata": {},
     "output_type": "execute_result"
    }
   ],
   "source": [
    "name[0]"
   ]
  },
  {
   "cell_type": "code",
   "execution_count": 3,
   "id": "5ab37674-76d6-4097-8596-b5933c5efb3a",
   "metadata": {},
   "outputs": [
    {
     "data": {
      "text/plain": [
       "' '"
      ]
     },
     "execution_count": 3,
     "metadata": {},
     "output_type": "execute_result"
    }
   ],
   "source": [
    "name[7]"
   ]
  },
  {
   "cell_type": "code",
   "execution_count": 8,
   "id": "58b626ce-a982-44ed-b355-c8b4a0c60cee",
   "metadata": {},
   "outputs": [
    {
     "data": {
      "text/plain": [
       "'My name'"
      ]
     },
     "execution_count": 8,
     "metadata": {},
     "output_type": "execute_result"
    }
   ],
   "source": [
    "name[0:7] # starting from first to 7 characters, means till 6th index"
   ]
  },
  {
   "cell_type": "code",
   "execution_count": 9,
   "id": "3aed4aa3-2ea2-4004-8977-93cf5b055925",
   "metadata": {},
   "outputs": [
    {
     "data": {
      "text/plain": [
       "True"
      ]
     },
     "execution_count": 9,
     "metadata": {},
     "output_type": "execute_result"
    }
   ],
   "source": [
    "name[0:7] == name[:7]"
   ]
  },
  {
   "cell_type": "code",
   "execution_count": 10,
   "id": "61d6aa57-7202-444c-bd0b-833b9dd25fb0",
   "metadata": {},
   "outputs": [
    {
     "data": {
      "text/plain": [
       "' abhi'"
      ]
     },
     "execution_count": 10,
     "metadata": {},
     "output_type": "execute_result"
    }
   ],
   "source": [
    "name[10:] # Taking from index seven to end "
   ]
  },
  {
   "cell_type": "code",
   "execution_count": 11,
   "id": "5e290ced-8604-40ed-a3b1-0dcd816162f0",
   "metadata": {},
   "outputs": [
    {
     "data": {
      "text/plain": [
       "5"
      ]
     },
     "execution_count": 11,
     "metadata": {},
     "output_type": "execute_result"
    }
   ],
   "source": [
    "len(name[10:])"
   ]
  },
  {
   "cell_type": "markdown",
   "id": "49432b2f-bc5b-430f-8271-a3a791147cbd",
   "metadata": {},
   "source": [
    "#### Formatting"
   ]
  },
  {
   "cell_type": "code",
   "execution_count": 14,
   "id": "ea6f48b8-af61-4893-b3c2-ee290b889023",
   "metadata": {},
   "outputs": [
    {
     "data": {
      "text/plain": [
       "'My number is: 5'"
      ]
     },
     "execution_count": 14,
     "metadata": {},
     "output_type": "execute_result"
    }
   ],
   "source": [
    "'My number is: ' +  str(5)"
   ]
  },
  {
   "cell_type": "code",
   "execution_count": 19,
   "id": "bde2147b-c0fa-426a-967e-962677da92ea",
   "metadata": {},
   "outputs": [
    {
     "data": {
      "text/plain": [
       "'my number is: 5'"
      ]
     },
     "execution_count": 19,
     "metadata": {},
     "output_type": "execute_result"
    }
   ],
   "source": [
    "f'my number is: {5}' # f strings started from python 3.6"
   ]
  },
  {
   "cell_type": "code",
   "execution_count": 20,
   "id": "fee076a8-2ffb-4285-a6b3-e5d880b7bb0b",
   "metadata": {},
   "outputs": [
    {
     "data": {
      "text/plain": [
       "'my number is : 5 and twice that is 10'"
      ]
     },
     "execution_count": 20,
     "metadata": {},
     "output_type": "execute_result"
    }
   ],
   "source": [
    "f'my number is : {5} and twice that is {2*5}'"
   ]
  },
  {
   "cell_type": "code",
   "execution_count": 21,
   "id": "ec736805-52ff-43f6-9d5f-1dc4c37587e3",
   "metadata": {},
   "outputs": [],
   "source": [
    "import math"
   ]
  },
  {
   "cell_type": "code",
   "execution_count": 22,
   "id": "ad529c50-dd46-4890-977c-4ca2098a8a26",
   "metadata": {},
   "outputs": [
    {
     "data": {
      "text/plain": [
       "'Pi is: 3.14'"
      ]
     },
     "execution_count": 22,
     "metadata": {},
     "output_type": "execute_result"
    }
   ],
   "source": [
    "f'Pi is: {math.pi:.2f}'"
   ]
  },
  {
   "cell_type": "code",
   "execution_count": 23,
   "id": "86d36608-68af-4155-8f7d-52b42eba0f85",
   "metadata": {},
   "outputs": [
    {
     "data": {
      "text/plain": [
       "'Pi is: 3.141592653589793'"
      ]
     },
     "execution_count": 23,
     "metadata": {},
     "output_type": "execute_result"
    }
   ],
   "source": [
    "# Before python 3.6\n",
    "'Pi is: {}'.format(math.pi)"
   ]
  },
  {
   "cell_type": "markdown",
   "id": "b80a9752-9eff-499b-ba49-a1dbb781e139",
   "metadata": {},
   "source": [
    "#### Multi-line strings"
   ]
  },
  {
   "cell_type": "code",
   "execution_count": 25,
   "id": "cf770af9-da13-44cc-b2d4-e97eebf17fc1",
   "metadata": {},
   "outputs": [],
   "source": [
    "myString = '''\n",
    "Here is a long block of text\n",
    "I  can add newLines!\n",
    "the text doesn't stop until it sees \\'\\'\\'\n",
    "'''"
   ]
  },
  {
   "cell_type": "code",
   "execution_count": 26,
   "id": "340a34da-84e3-4e47-ba03-f06ac09801fe",
   "metadata": {},
   "outputs": [
    {
     "data": {
      "text/plain": [
       "\"\\nHere is a long block of text\\nI  can add newLines!\\nthe text doesn't stop until it sees '''\\n\""
      ]
     },
     "execution_count": 26,
     "metadata": {},
     "output_type": "execute_result"
    }
   ],
   "source": [
    "myString"
   ]
  },
  {
   "cell_type": "code",
   "execution_count": 27,
   "id": "fe71bbec-4be4-48f2-8ad9-539037a10f5f",
   "metadata": {},
   "outputs": [
    {
     "name": "stdout",
     "output_type": "stream",
     "text": [
      "\n",
      "Here is a long block of text\n",
      "I  can add newLines!\n",
      "the text doesn't stop until it sees '''\n",
      "\n"
     ]
    }
   ],
   "source": [
    "print(myString)"
   ]
  }
 ],
 "metadata": {
  "kernelspec": {
   "display_name": "Python 3 (ipykernel)",
   "language": "python",
   "name": "python3"
  },
  "language_info": {
   "codemirror_mode": {
    "name": "ipython",
    "version": 3
   },
   "file_extension": ".py",
   "mimetype": "text/x-python",
   "name": "python",
   "nbconvert_exporter": "python",
   "pygments_lexer": "ipython3",
   "version": "3.13.0"
  }
 },
 "nbformat": 4,
 "nbformat_minor": 5
}
