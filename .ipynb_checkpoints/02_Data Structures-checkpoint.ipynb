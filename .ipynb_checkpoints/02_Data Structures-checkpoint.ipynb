{
 "cells": [
  {
   "cell_type": "markdown",
   "id": "8274fd34-e855-4621-ab4b-fa0901c7e3d8",
   "metadata": {},
   "source": [
    "Data Structures"
   ]
  },
  {
   "cell_type": "markdown",
   "id": "3ab98841-cbae-434e-9e9d-51a1fc383143",
   "metadata": {},
   "source": [
    "Lists"
   ]
  },
  {
   "cell_type": "code",
   "execution_count": 3,
   "id": "d73803bf-e524-4d95-aaca-092169ba10f1",
   "metadata": {},
   "outputs": [],
   "source": [
    "my_list = [1,2,3,4]"
   ]
  },
  {
   "cell_type": "code",
   "execution_count": 4,
   "id": "9815b9d4-0c65-43a3-8689-984f8e6d1238",
   "metadata": {},
   "outputs": [
    {
     "name": "stdout",
     "output_type": "stream",
     "text": [
      "[1, 2, 3, 4]\n"
     ]
    }
   ],
   "source": [
    "print(my_list)"
   ]
  },
  {
   "cell_type": "code",
   "execution_count": 5,
   "id": "40b1e414-c89b-41f0-8755-ad5597ca17fe",
   "metadata": {},
   "outputs": [],
   "source": [
    "my_list1 = [1, 'list' , False, []]"
   ]
  },
  {
   "cell_type": "code",
   "execution_count": 6,
   "id": "fc9a3f1b-3f7e-4bbf-9cec-a6238769780a",
   "metadata": {},
   "outputs": [
    {
     "data": {
      "text/plain": [
       "4"
      ]
     },
     "execution_count": 6,
     "metadata": {},
     "output_type": "execute_result"
    }
   ],
   "source": [
    "len(my_list1)"
   ]
  },
  {
   "cell_type": "markdown",
   "id": "46609b90-c12a-4b7a-a9f8-69ac5e45a2b4",
   "metadata": {},
   "source": [
    "Sets"
   ]
  },
  {
   "cell_type": "code",
   "execution_count": 7,
   "id": "74d67234-452d-497a-9109-9d05546ddb21",
   "metadata": {},
   "outputs": [],
   "source": [
    "my_set = { 1, 2 , 3, 3 ,3 ,4,5,4}"
   ]
  },
  {
   "cell_type": "code",
   "execution_count": 8,
   "id": "c2d07dce-b27d-4ac8-9ae7-6e4a51339c17",
   "metadata": {},
   "outputs": [
    {
     "name": "stdout",
     "output_type": "stream",
     "text": [
      "{1, 2, 3, 4, 5}\n"
     ]
    }
   ],
   "source": [
    "print(my_set)"
   ]
  },
  {
   "cell_type": "code",
   "execution_count": 9,
   "id": "dc553246-f37a-433f-a865-39d32f9e5952",
   "metadata": {},
   "outputs": [
    {
     "data": {
      "text/plain": [
       "5"
      ]
     },
     "execution_count": 9,
     "metadata": {},
     "output_type": "execute_result"
    }
   ],
   "source": [
    "len(my_set)"
   ]
  },
  {
   "cell_type": "code",
   "execution_count": 10,
   "id": "3b6d7a1b-1a24-4959-9265-1092f97ea545",
   "metadata": {},
   "outputs": [
    {
     "data": {
      "text/plain": [
       "True"
      ]
     },
     "execution_count": 10,
     "metadata": {},
     "output_type": "execute_result"
    }
   ],
   "source": [
    "{1,2,3,3} == { 3, 3, 2, 1, 1}"
   ]
  },
  {
   "cell_type": "markdown",
   "id": "4ae82591-eda4-4505-90fa-59eac4b8e847",
   "metadata": {},
   "source": [
    "Tuples"
   ]
  },
  {
   "cell_type": "code",
   "execution_count": 12,
   "id": "ec679597-0f19-47aa-91a9-beb4ba330d66",
   "metadata": {},
   "outputs": [],
   "source": [
    "my_tuple = (1,2,3)"
   ]
  },
  {
   "cell_type": "code",
   "execution_count": 13,
   "id": "c31e925d-2137-4935-98d3-117026863594",
   "metadata": {},
   "outputs": [
    {
     "data": {
      "text/plain": [
       "3"
      ]
     },
     "execution_count": 13,
     "metadata": {},
     "output_type": "execute_result"
    }
   ],
   "source": [
    "len(my_tuple)"
   ]
  },
  {
   "cell_type": "code",
   "execution_count": 14,
   "id": "98c1efb2-7d50-445d-a462-1ff63aa8082b",
   "metadata": {},
   "outputs": [
    {
     "data": {
      "text/plain": [
       "True"
      ]
     },
     "execution_count": 14,
     "metadata": {},
     "output_type": "execute_result"
    }
   ],
   "source": [
    "(1,2) != (2,1)"
   ]
  }
 ],
 "metadata": {
  "kernelspec": {
   "display_name": "Python 3 (ipykernel)",
   "language": "python",
   "name": "python3"
  },
  "language_info": {
   "codemirror_mode": {
    "name": "ipython",
    "version": 3
   },
   "file_extension": ".py",
   "mimetype": "text/x-python",
   "name": "python",
   "nbconvert_exporter": "python",
   "pygments_lexer": "ipython3",
   "version": "3.13.0"
  }
 },
 "nbformat": 4,
 "nbformat_minor": 5
}
