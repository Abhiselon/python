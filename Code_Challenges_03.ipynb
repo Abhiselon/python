{
 "cells": [
  {
   "cell_type": "markdown",
   "id": "bbb461c8-b68b-457c-882f-fc0d9422414d",
   "metadata": {},
   "source": [
    "## Encoding ASCII Art"
   ]
  },
  {
   "cell_type": "markdown",
   "id": "9d03e714-69f7-4fc2-97c1-015332ac1cac",
   "metadata": {},
   "source": [
    "#### Reference:  [run length encoding](https://en.wikipedia.org/wiki/Run-length_encoding)"
   ]
  },
  {
   "cell_type": "code",
   "execution_count": 24,
   "id": "99172dc6-23ac-4f8a-8e02-42c7270bfa2f",
   "metadata": {},
   "outputs": [],
   "source": [
    "inpString = 'AAAAABBBBAAAkkmmddllBBBAAA'"
   ]
  },
  {
   "cell_type": "code",
   "execution_count": 25,
   "id": "a3b38baa-9a3d-4838-ab9c-5eebc00ed83d",
   "metadata": {},
   "outputs": [
    {
     "data": {
      "text/plain": [
       "[('A', 1),\n",
       " ('A', 1),\n",
       " ('A', 1),\n",
       " ('A', 1),\n",
       " ('A', 1),\n",
       " ('B', 1),\n",
       " ('B', 1),\n",
       " ('B', 1),\n",
       " ('B', 1),\n",
       " ('A', 1),\n",
       " ('A', 1),\n",
       " ('A', 1),\n",
       " ('k', 1),\n",
       " ('k', 1),\n",
       " ('m', 1),\n",
       " ('m', 1),\n",
       " ('d', 1),\n",
       " ('d', 1),\n",
       " ('l', 1),\n",
       " ('l', 1),\n",
       " ('B', 1),\n",
       " ('B', 1),\n",
       " ('B', 1),\n",
       " ('A', 1),\n",
       " ('A', 1),\n",
       " ('A', 1)]"
      ]
     },
     "execution_count": 25,
     "metadata": {},
     "output_type": "execute_result"
    }
   ],
   "source": [
    "[(a,1) for a in inpString]"
   ]
  },
  {
   "cell_type": "code",
   "execution_count": 26,
   "id": "99322697-4e62-4b06-8513-62dff5b97dda",
   "metadata": {},
   "outputs": [
    {
     "name": "stdout",
     "output_type": "stream",
     "text": [
      "AA : if \n",
      "AAA : if \n",
      "AAAA : if \n",
      "AAAAA : if \n",
      "4\n"
     ]
    }
   ],
   "source": [
    "mylist = []\n",
    "init_string = inpString[0]\n",
    "i=0\n",
    "while inpString[i] == inpString[i + 1]:\n",
    "    init_string = init_string + inpString[i + 1]\n",
    "    print(init_string + \" : if \")\n",
    "    i+=1\n",
    "k = i \n",
    "mylist.append(init_string)\n",
    "print(i)"
   ]
  },
  {
   "cell_type": "code",
   "execution_count": 27,
   "id": "8e2f8f6d-cefd-4016-bfcd-6e058fd8a2dd",
   "metadata": {},
   "outputs": [
    {
     "data": {
      "text/plain": [
       "['AAAAA']"
      ]
     },
     "execution_count": 27,
     "metadata": {},
     "output_type": "execute_result"
    }
   ],
   "source": [
    "mylist"
   ]
  },
  {
   "cell_type": "code",
   "execution_count": 28,
   "id": "0dceddc7-becc-4892-be30-7002fce93fca",
   "metadata": {},
   "outputs": [
    {
     "name": "stdout",
     "output_type": "stream",
     "text": [
      "AA : if \n",
      "AAA : if \n",
      "AAAA : if \n",
      "AAAAA : if \n",
      "B : else \n",
      "BB : if \n",
      "BBB : if \n",
      "BBBB : if \n",
      "A : else \n",
      "AA : if \n",
      "AAA : if \n",
      "k : else \n",
      "kk : if \n",
      "m : else \n",
      "mm : if \n",
      "d : else \n",
      "dd : if \n",
      "l : else \n",
      "ll : if \n",
      "B : else \n",
      "BB : if \n",
      "BBB : if \n",
      "A : else \n",
      "AA : if \n",
      "AAA : if \n"
     ]
    }
   ],
   "source": [
    "mylist = []\n",
    "init_string = inpString[0]\n",
    "for i in range(len(inpString)-1):\n",
    "    if inpString[i] == inpString[i + 1]:\n",
    "        init_string = init_string + inpString[i + 1]\n",
    "        print(init_string + \" : if \")\n",
    "        continue\n",
    "    else:\n",
    "        mylist.append(init_string)\n",
    "        init_string = inpString[i+1]\n",
    "        print(init_string + \" : else \")\n",
    "mylist.append(init_string)"
   ]
  },
  {
   "cell_type": "code",
   "execution_count": 50,
   "id": "997e1a73-d41c-4561-a8e9-57913f7139c8",
   "metadata": {},
   "outputs": [],
   "source": [
    "stringVal = 'AAAAABBBBAAA'"
   ]
  },
  {
   "cell_type": "code",
   "execution_count": 51,
   "id": "13345c7c-bf10-474e-9714-70ad8552ac96",
   "metadata": {},
   "outputs": [
    {
     "data": {
      "text/plain": [
       "['AAAAA', 'BBBB', 'AAA']"
      ]
     },
     "execution_count": 51,
     "metadata": {},
     "output_type": "execute_result"
    }
   ],
   "source": [
    "mylist = []\n",
    "init_string = stringVal[0]\n",
    "for i in range(len(stringVal)-1):\n",
    "    if stringVal[i] == stringVal[i + 1]:\n",
    "        init_string = init_string + stringVal[i + 1]\n",
    "        \n",
    "    else:\n",
    "        mylist.append(init_string)\n",
    "        init_string = stringVal[i+1]\n",
    "mylist.append(init_string)\n",
    "mylist"
   ]
  },
  {
   "cell_type": "code",
   "execution_count": 52,
   "id": "70909c30-d5eb-4dee-9f71-fbb7955ebd2b",
   "metadata": {},
   "outputs": [
    {
     "name": "stdout",
     "output_type": "stream",
     "text": [
      "A 5\n",
      "B 4\n",
      "A 3\n"
     ]
    }
   ],
   "source": [
    "resultset = []\n",
    "for i in range(len(mylist)):\n",
    "    resultset.append((mylist[i][0],len(mylist[i])))\n",
    "    print(mylist[i][0],len(mylist[i]))"
   ]
  },
  {
   "cell_type": "code",
   "execution_count": 53,
   "id": "7d1e7df9-abbc-4a7f-a882-d26a8fa7c3f2",
   "metadata": {},
   "outputs": [
    {
     "data": {
      "text/plain": [
       "[('A', 5), ('B', 4), ('A', 3)]"
      ]
     },
     "execution_count": 53,
     "metadata": {},
     "output_type": "execute_result"
    }
   ],
   "source": [
    "resultset"
   ]
  },
  {
   "cell_type": "code",
   "execution_count": 54,
   "id": "acd588b6-c620-4e1b-919d-37f58bd80a83",
   "metadata": {},
   "outputs": [
    {
     "data": {
      "text/plain": [
       "'AAAAA'"
      ]
     },
     "execution_count": 54,
     "metadata": {},
     "output_type": "execute_result"
    }
   ],
   "source": [
    "resultset[0][0] *resultset[0][1]"
   ]
  },
  {
   "cell_type": "code",
   "execution_count": 56,
   "id": "0739f156-f1e9-4748-b4da-03484ed48553",
   "metadata": {},
   "outputs": [
    {
     "name": "stdout",
     "output_type": "stream",
     "text": [
      "AAAAABBBBAAA\n"
     ]
    }
   ],
   "source": [
    "myOriginalString = ''\n",
    "for i,j in resultset:\n",
    "    myOriginalString += i * j\n",
    "print(myOriginalString)"
   ]
  }
 ],
 "metadata": {
  "kernelspec": {
   "display_name": "Python 3 (ipykernel)",
   "language": "python",
   "name": "python3"
  },
  "language_info": {
   "codemirror_mode": {
    "name": "ipython",
    "version": 3
   },
   "file_extension": ".py",
   "mimetype": "text/x-python",
   "name": "python",
   "nbconvert_exporter": "python",
   "pygments_lexer": "ipython3",
   "version": "3.13.0"
  }
 },
 "nbformat": 4,
 "nbformat_minor": 5
}
