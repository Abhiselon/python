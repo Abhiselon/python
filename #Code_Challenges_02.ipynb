{
 "cells": [
  {
   "cell_type": "markdown",
   "id": "656ddbd2-5c90-4037-a17d-d60264ada4eb",
   "metadata": {},
   "source": [
    "## Converting Hexadecimal to Decimal"
   ]
  },
  {
   "cell_type": "code",
   "execution_count": 20,
   "id": "b1e0975b-18f7-4748-9358-65bb3c68e568",
   "metadata": {},
   "outputs": [
    {
     "data": {
      "text/plain": [
       "2748"
      ]
     },
     "execution_count": 20,
     "metadata": {},
     "output_type": "execute_result"
    }
   ],
   "source": [
    "# Example logic\n",
    "hexNumbers = {\n",
    "    '0': 0, '1': 1, '2': 2, '3': 3, '4': 4, '5': 5, '6': 6, '7': 7, '8': 8, '9': 9,\n",
    "    'A': 10, 'B': 11, 'C': 12, 'D': 13, 'E': 14, 'F': 15\n",
    "}\n",
    "\n",
    "hexNumbers['A'] * 256 + hexNumbers['B'] * 16 + hexNumbers['C'] "
   ]
  },
  {
   "cell_type": "code",
   "execution_count": 21,
   "id": "1f47d175-bec0-4706-b6cf-fec233096a9f",
   "metadata": {},
   "outputs": [],
   "source": [
    "# Lets create dictionary for hex characters\n",
    "\n",
    "hexNumbers = {\n",
    "    '0': 0, '1': 1, '2': 2, '3': 3, '4': 4, '5': 5, '6': 6, '7': 7, '8': 8, '9': 9,\n",
    "    'A': 10, 'B': 11, 'C': 12, 'D': 13, 'E': 14, 'F': 15\n",
    "}"
   ]
  },
  {
   "cell_type": "code",
   "execution_count": 26,
   "id": "6506b3fc-7c3e-42b2-b3c5-728ba58337d7",
   "metadata": {},
   "outputs": [
    {
     "name": "stdout",
     "output_type": "stream",
     "text": [
      "[12, 10, 11]\n"
     ]
    }
   ],
   "source": [
    "# Taking one example for trial\n",
    "hexNum ='CAB'\n",
    "my_list = []\n",
    "# Checking if we can retrieve data from hexNumbers dictionary using for loop\n",
    "for i in range(len(hexNum)):\n",
    "    my_list.append(hexNumbers[hexNum[i]])\n",
    "print(my_list)"
   ]
  },
  {
   "cell_type": "code",
   "execution_count": 27,
   "id": "0284fb92-2a8e-45ab-8d4f-75c168c0751c",
   "metadata": {},
   "outputs": [
    {
     "name": "stdout",
     "output_type": "stream",
     "text": [
      "3243\n"
     ]
    }
   ],
   "source": [
    "# Enhancing above code by adding logic to it\n",
    "my_list = []\n",
    "exponent = len(hexNum) - 1 \n",
    "dec_val = 0\n",
    "for i in range(len(hexNum)):\n",
    "    my_list.append(hexNumbers[hexNum[i]])\n",
    "    dec_val += ( hexNumbers[hexNum[i]] * ( 16 ** exponent ) )\n",
    "    exponent -= 1\n",
    "print(dec_val)"
   ]
  },
  {
   "cell_type": "code",
   "execution_count": 28,
   "id": "3efec0f0-0f27-4639-b1bc-d38198175b8b",
   "metadata": {},
   "outputs": [
    {
     "name": "stdout",
     "output_type": "stream",
     "text": [
      "51888\n"
     ]
    }
   ],
   "source": [
    "# Test case for non-hex values\n",
    "hexNum ='CANB'\n",
    "my_list = []\n",
    "k = len(hexNum)\n",
    "dec_val = 0\n",
    "for i in range(len(hexNum)):\n",
    "    if hexNum[i] in hexNumbers:\n",
    "        dec_val += (hexNumbers[hexNum[i]] * ( 16 ** ( k - 1 )))\n",
    "        k-=1\n",
    "print(dec_val)"
   ]
  },
  {
   "cell_type": "code",
   "execution_count": 29,
   "id": "0a21a30f-500c-4f09-9f4f-8f99c92040b2",
   "metadata": {},
   "outputs": [],
   "source": [
    "# Considering above fault, updating code\n",
    "# Converts a string hexadecimal number into an integer decimal\n",
    "# If hexNum is not a valid hexadecimal number, returns None\n",
    "\n",
    "def hexToDec(hexNum):\n",
    "    my_list = []\n",
    "    k = len(hexNum)\n",
    "    dec_val = 0\n",
    "    for i in range(len(hexNum)):\n",
    "        if hexNum[i] in hexNumbers:\n",
    "            dec_val += (hexNumbers[hexNum[i]] * ( 16 ** ( k - 1 )))\n",
    "            k-=1\n",
    "        else:\n",
    "            return None\n",
    "    return dec_val"
   ]
  },
  {
   "cell_type": "code",
   "execution_count": 30,
   "id": "ac8e0553-4f24-43cf-a549-f42c9d4a7d28",
   "metadata": {},
   "outputs": [
    {
     "name": "stdout",
     "output_type": "stream",
     "text": [
      "None\n"
     ]
    }
   ],
   "source": [
    "print(hexToDec('CANB'))"
   ]
  },
  {
   "cell_type": "code",
   "execution_count": 31,
   "id": "e81da867-2641-489f-aa3e-bcf6513e5951",
   "metadata": {},
   "outputs": [
    {
     "name": "stdout",
     "output_type": "stream",
     "text": [
      "3243\n"
     ]
    }
   ],
   "source": [
    "print(hexToDec('CAB'))"
   ]
  },
  {
   "cell_type": "code",
   "execution_count": 32,
   "id": "f4b5058d-c6da-4a08-ab90-321b3c4926b9",
   "metadata": {},
   "outputs": [
    {
     "name": "stdout",
     "output_type": "stream",
     "text": [
      "10\n"
     ]
    }
   ],
   "source": [
    "print(hexToDec('A'))"
   ]
  }
 ],
 "metadata": {
  "kernelspec": {
   "display_name": "Python 3 (ipykernel)",
   "language": "python",
   "name": "python3"
  },
  "language_info": {
   "codemirror_mode": {
    "name": "ipython",
    "version": 3
   },
   "file_extension": ".py",
   "mimetype": "text/x-python",
   "name": "python",
   "nbconvert_exporter": "python",
   "pygments_lexer": "ipython3",
   "version": "3.13.0"
  }
 },
 "nbformat": 4,
 "nbformat_minor": 5
}
