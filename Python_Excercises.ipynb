{
 "cells": [
  {
   "cell_type": "markdown",
   "id": "c964ddb1-11f0-492a-9955-12561a00de4e",
   "metadata": {},
   "source": [
    "# Python Crash Course Exercises "
   ]
  },
  {
   "cell_type": "markdown",
   "id": "449719d7-ce48-4713-9e6f-1ccbe36c1a64",
   "metadata": {},
   "source": [
    "** What is 7 to the power of 4?**"
   ]
  },
  {
   "cell_type": "code",
   "execution_count": 1,
   "id": "a3a9e07c-22b2-422e-8d59-1bc8b8a76dfb",
   "metadata": {},
   "outputs": [
    {
     "data": {
      "text/plain": [
       "2401"
      ]
     },
     "execution_count": 1,
     "metadata": {},
     "output_type": "execute_result"
    }
   ],
   "source": [
    "7**4"
   ]
  },
  {
   "cell_type": "markdown",
   "id": "b43a50b1-3a06-46b8-8f20-d79462e97346",
   "metadata": {},
   "source": [
    "** Split this string:**\n",
    "\n",
    "s = \"Hi there Sam!\"\n",
    " **into a list. **"
   ]
  },
  {
   "cell_type": "code",
   "execution_count": 3,
   "id": "afeeb86d-3a05-4c57-8446-0ad14fd37e72",
   "metadata": {},
   "outputs": [
    {
     "data": {
      "text/plain": [
       "['Hi', 'there', 'Abhi!']"
      ]
     },
     "execution_count": 3,
     "metadata": {},
     "output_type": "execute_result"
    }
   ],
   "source": [
    "s = \"Hi there Abhi!\"\n",
    "s.split()"
   ]
  }
 ],
 "metadata": {
  "kernelspec": {
   "display_name": "Python 3 (ipykernel)",
   "language": "python",
   "name": "python3"
  },
  "language_info": {
   "codemirror_mode": {
    "name": "ipython",
    "version": 3
   },
   "file_extension": ".py",
   "mimetype": "text/x-python",
   "name": "python",
   "nbconvert_exporter": "python",
   "pygments_lexer": "ipython3",
   "version": "3.12.7"
  }
 },
 "nbformat": 4,
 "nbformat_minor": 5
}
