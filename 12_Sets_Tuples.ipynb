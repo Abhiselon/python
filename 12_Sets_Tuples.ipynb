{
 "cells": [
  {
   "cell_type": "markdown",
   "id": "637e1599-1fc5-402f-a5d2-52f118f52859",
   "metadata": {},
   "source": [
    "Sets"
   ]
  },
  {
   "cell_type": "code",
   "execution_count": 1,
   "id": "6701ecf7-2226-46cf-b88a-5becf9e33efd",
   "metadata": {},
   "outputs": [
    {
     "data": {
      "text/plain": [
       "{'a', 'b', 'c'}"
      ]
     },
     "execution_count": 1,
     "metadata": {},
     "output_type": "execute_result"
    }
   ],
   "source": [
    "mySet = {'a','b','c'}\n",
    "mySet\n"
   ]
  },
  {
   "cell_type": "code",
   "execution_count": 3,
   "id": "4ee2a19b-248e-4809-8d56-901bf455a062",
   "metadata": {},
   "outputs": [],
   "source": [
    "mySet = set({'a','b','c'})"
   ]
  },
  {
   "cell_type": "code",
   "execution_count": 5,
   "id": "896f2cb6-7ae9-4e00-aa31-ba5750e8d02a",
   "metadata": {},
   "outputs": [],
   "source": [
    "mySet = set(('a','b','c'))"
   ]
  },
  {
   "cell_type": "code",
   "execution_count": 6,
   "id": "0cbd4b9c-469b-4952-9698-22313509a9fe",
   "metadata": {},
   "outputs": [],
   "source": [
    "mySet = set(['a','b','c'])"
   ]
  },
  {
   "cell_type": "code",
   "execution_count": 7,
   "id": "160d7f38-77a5-47be-a717-77000bbe6701",
   "metadata": {},
   "outputs": [],
   "source": [
    "myList = [ 'a', 'b', 'c', 'c', 'a']\n",
    "mySet  = set(myList)"
   ]
  },
  {
   "cell_type": "code",
   "execution_count": 8,
   "id": "735dbc4e-047e-4e74-a30c-8154e70885f3",
   "metadata": {},
   "outputs": [
    {
     "data": {
      "text/plain": [
       "{'a', 'b', 'c'}"
      ]
     },
     "execution_count": 8,
     "metadata": {},
     "output_type": "execute_result"
    }
   ],
   "source": [
    "mySet"
   ]
  },
  {
   "cell_type": "code",
   "execution_count": 9,
   "id": "66a65269-fccb-47f9-97af-a672f36d271f",
   "metadata": {},
   "outputs": [
    {
     "ename": "TypeError",
     "evalue": "'set' object is not subscriptable",
     "output_type": "error",
     "traceback": [
      "\u001b[1;31m---------------------------------------------------------------------------\u001b[0m",
      "\u001b[1;31mTypeError\u001b[0m                                 Traceback (most recent call last)",
      "Cell \u001b[1;32mIn[9], line 1\u001b[0m\n\u001b[1;32m----> 1\u001b[0m \u001b[43mmySet\u001b[49m\u001b[43m[\u001b[49m\u001b[38;5;241;43m0\u001b[39;49m\u001b[43m]\u001b[49m\n",
      "\u001b[1;31mTypeError\u001b[0m: 'set' object is not subscriptable"
     ]
    }
   ],
   "source": [
    "mySet[0]"
   ]
  },
  {
   "cell_type": "code",
   "execution_count": 10,
   "id": "65d807cb-5572-416d-b588-bdf54d4e8ea9",
   "metadata": {},
   "outputs": [
    {
     "name": "stderr",
     "output_type": "stream",
     "text": [
      "<>:1: SyntaxWarning: 'int' object is not subscriptable; perhaps you missed a comma?\n",
      "<>:1: SyntaxWarning: 'int' object is not subscriptable; perhaps you missed a comma?\n",
      "C:\\Users\\Saumya Kulkarni\\AppData\\Local\\Temp\\ipykernel_7472\\1270219447.py:1: SyntaxWarning: 'int' object is not subscriptable; perhaps you missed a comma?\n",
      "  1[0]\n"
     ]
    },
    {
     "ename": "TypeError",
     "evalue": "'int' object is not subscriptable",
     "output_type": "error",
     "traceback": [
      "\u001b[1;31m---------------------------------------------------------------------------\u001b[0m",
      "\u001b[1;31mTypeError\u001b[0m                                 Traceback (most recent call last)",
      "Cell \u001b[1;32mIn[10], line 1\u001b[0m\n\u001b[1;32m----> 1\u001b[0m \u001b[38;5;241;43m1\u001b[39;49m\u001b[43m[\u001b[49m\u001b[38;5;241;43m0\u001b[39;49m\u001b[43m]\u001b[49m\n",
      "\u001b[1;31mTypeError\u001b[0m: 'int' object is not subscriptable"
     ]
    }
   ],
   "source": [
    "1[0]"
   ]
  },
  {
   "cell_type": "code",
   "execution_count": 11,
   "id": "4f25e4ca-1b4f-4508-ae14-7eb066c47387",
   "metadata": {},
   "outputs": [],
   "source": [
    "mySet.add('d')"
   ]
  },
  {
   "cell_type": "code",
   "execution_count": 12,
   "id": "53493ac3-0015-4122-b992-131dd0cf7f65",
   "metadata": {},
   "outputs": [
    {
     "data": {
      "text/plain": [
       "{'a', 'b', 'c', 'd'}"
      ]
     },
     "execution_count": 12,
     "metadata": {},
     "output_type": "execute_result"
    }
   ],
   "source": [
    "mySet"
   ]
  },
  {
   "cell_type": "code",
   "execution_count": 13,
   "id": "b6653e00-e2fd-4064-9bde-97cd1239b8a6",
   "metadata": {},
   "outputs": [
    {
     "data": {
      "text/plain": [
       "True"
      ]
     },
     "execution_count": 13,
     "metadata": {},
     "output_type": "execute_result"
    }
   ],
   "source": [
    "'a' in mySet"
   ]
  },
  {
   "cell_type": "code",
   "execution_count": 14,
   "id": "ee8838df-43e0-4476-84be-4bb4d875b026",
   "metadata": {},
   "outputs": [
    {
     "data": {
      "text/plain": [
       "False"
      ]
     },
     "execution_count": 14,
     "metadata": {},
     "output_type": "execute_result"
    }
   ],
   "source": [
    "'z' in mySet"
   ]
  },
  {
   "cell_type": "code",
   "execution_count": 15,
   "id": "7249d2b6-0315-445a-9653-a29b734fd1aa",
   "metadata": {},
   "outputs": [],
   "source": [
    "mySet.clear()"
   ]
  },
  {
   "cell_type": "code",
   "execution_count": 16,
   "id": "ec3875fe-bbf9-408c-9429-ecf877ee7c69",
   "metadata": {},
   "outputs": [
    {
     "data": {
      "text/plain": [
       "set()"
      ]
     },
     "execution_count": 16,
     "metadata": {},
     "output_type": "execute_result"
    }
   ],
   "source": [
    "mySet"
   ]
  },
  {
   "cell_type": "code",
   "execution_count": 17,
   "id": "1e92ec5c-f337-460b-b62a-e827367c2876",
   "metadata": {},
   "outputs": [],
   "source": [
    "mySet.add('d')"
   ]
  },
  {
   "cell_type": "code",
   "execution_count": 18,
   "id": "4dd12600-d668-4c83-bf66-a5f15d0ac87a",
   "metadata": {},
   "outputs": [
    {
     "data": {
      "text/plain": [
       "{'d'}"
      ]
     },
     "execution_count": 18,
     "metadata": {},
     "output_type": "execute_result"
    }
   ],
   "source": [
    "mySet"
   ]
  },
  {
   "cell_type": "code",
   "execution_count": 19,
   "id": "ad0c4918-d1f3-4368-b588-419e9a6397d2",
   "metadata": {},
   "outputs": [],
   "source": [
    "mySet.discard('d')"
   ]
  },
  {
   "cell_type": "code",
   "execution_count": 20,
   "id": "29e89974-22df-4fb0-be7c-db9c49d1a35c",
   "metadata": {},
   "outputs": [
    {
     "data": {
      "text/plain": [
       "set()"
      ]
     },
     "execution_count": 20,
     "metadata": {},
     "output_type": "execute_result"
    }
   ],
   "source": [
    "mySet"
   ]
  },
  {
   "cell_type": "markdown",
   "id": "c4f47f18-e684-45b6-8851-e90f04203d2d",
   "metadata": {},
   "source": [
    "#### Tuples"
   ]
  },
  {
   "cell_type": "code",
   "execution_count": 21,
   "id": "c570af44-010e-47b2-b1f3-2ef519109704",
   "metadata": {},
   "outputs": [
    {
     "data": {
      "text/plain": [
       "('a', 'b', 'c')"
      ]
     },
     "execution_count": 21,
     "metadata": {},
     "output_type": "execute_result"
    }
   ],
   "source": [
    "myTuple = ('a','b','c')\n",
    "myTuple"
   ]
  },
  {
   "cell_type": "code",
   "execution_count": 22,
   "id": "bbb0fa4d-a63c-4146-8069-49371f6a26c2",
   "metadata": {},
   "outputs": [
    {
     "data": {
      "text/plain": [
       "'a'"
      ]
     },
     "execution_count": 22,
     "metadata": {},
     "output_type": "execute_result"
    }
   ],
   "source": [
    "myTuple[0]"
   ]
  },
  {
   "cell_type": "code",
   "execution_count": 23,
   "id": "3d722fbb-9a7d-4d5b-a756-90ac4877a7f3",
   "metadata": {},
   "outputs": [
    {
     "ename": "TypeError",
     "evalue": "'tuple' object does not support item assignment",
     "output_type": "error",
     "traceback": [
      "\u001b[1;31m---------------------------------------------------------------------------\u001b[0m",
      "\u001b[1;31mTypeError\u001b[0m                                 Traceback (most recent call last)",
      "Cell \u001b[1;32mIn[23], line 1\u001b[0m\n\u001b[1;32m----> 1\u001b[0m \u001b[43mmyTuple\u001b[49m\u001b[43m[\u001b[49m\u001b[38;5;241;43m0\u001b[39;49m\u001b[43m]\u001b[49m \u001b[38;5;241m=\u001b[39m \u001b[38;5;124m'\u001b[39m\u001b[38;5;124md\u001b[39m\u001b[38;5;124m'\u001b[39m\n",
      "\u001b[1;31mTypeError\u001b[0m: 'tuple' object does not support item assignment"
     ]
    }
   ],
   "source": [
    "myTuple[0] = 'd'"
   ]
  },
  {
   "cell_type": "code",
   "execution_count": 24,
   "id": "35ea4802-462e-4102-8380-91ba5b098b84",
   "metadata": {},
   "outputs": [],
   "source": [
    "def returnMultipleValues():\n",
    "    return 1,2,3"
   ]
  },
  {
   "cell_type": "code",
   "execution_count": 25,
   "id": "141a9cbe-4428-4574-bd9a-7a7ea5530572",
   "metadata": {},
   "outputs": [
    {
     "data": {
      "text/plain": [
       "tuple"
      ]
     },
     "execution_count": 25,
     "metadata": {},
     "output_type": "execute_result"
    }
   ],
   "source": [
    "type(returnMultipleValues())"
   ]
  },
  {
   "cell_type": "code",
   "execution_count": 26,
   "id": "fb1bb8ba-2d3b-41d5-9d1c-d82adbd6a574",
   "metadata": {},
   "outputs": [],
   "source": [
    "a,b,c = returnMultipleValues()"
   ]
  },
  {
   "cell_type": "code",
   "execution_count": 28,
   "id": "71132ae1-979d-4b28-9415-0d78480098e0",
   "metadata": {},
   "outputs": [
    {
     "name": "stdout",
     "output_type": "stream",
     "text": [
      "1\n",
      "2\n",
      "3\n"
     ]
    }
   ],
   "source": [
    "print(a)\n",
    "print(b)\n",
    "print(c)"
   ]
  }
 ],
 "metadata": {
  "kernelspec": {
   "display_name": "Python 3 (ipykernel)",
   "language": "python",
   "name": "python3"
  },
  "language_info": {
   "codemirror_mode": {
    "name": "ipython",
    "version": 3
   },
   "file_extension": ".py",
   "mimetype": "text/x-python",
   "name": "python",
   "nbconvert_exporter": "python",
   "pygments_lexer": "ipython3",
   "version": "3.13.0"
  }
 },
 "nbformat": 4,
 "nbformat_minor": 5
}
