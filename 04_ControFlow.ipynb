{
 "cells": [
  {
   "cell_type": "markdown",
   "id": "bbfa4487-6221-4440-992b-620c63bec242",
   "metadata": {},
   "source": [
    "if/else"
   ]
  },
  {
   "cell_type": "code",
   "execution_count": 2,
   "id": "a61c6166-c15d-4c38-b240-a555c4f44c82",
   "metadata": {},
   "outputs": [
    {
     "name": "stdout",
     "output_type": "stream",
     "text": [
      "This is True\n"
     ]
    }
   ],
   "source": [
    "if True:\n",
    "    print('This is True')"
   ]
  },
  {
   "cell_type": "code",
   "execution_count": 3,
   "id": "013d08d4-60b7-4a05-ada9-48d124a1979d",
   "metadata": {},
   "outputs": [
    {
     "name": "stdout",
     "output_type": "stream",
     "text": [
      "This is True\n"
     ]
    }
   ],
   "source": [
    "a = True\n",
    "if a:\n",
    "    print('This is True')"
   ]
  },
  {
   "cell_type": "code",
   "execution_count": 14,
   "id": "e60f7602-12fa-4f20-8fdb-327133059b43",
   "metadata": {},
   "outputs": [
    {
     "name": "stdout",
     "output_type": "stream",
     "text": [
      "This is True\n",
      "only a is true\n",
      "a = True , b = False\n"
     ]
    }
   ],
   "source": [
    "a = True\n",
    "b = False\n",
    "if a:\n",
    "    print('This is True')\n",
    "    if b:\n",
    "        print('both a and b are true')\n",
    "        print( f'a = {a} , b = {b}')\n",
    "    else:\n",
    "        print('only a is true')\n",
    "        print( f'a = {a} , b = {b}')"
   ]
  },
  {
   "cell_type": "markdown",
   "id": "3cfb7d65-4f2f-493a-9f97-ba35928e39c2",
   "metadata": {},
   "source": [
    "for loop"
   ]
  },
  {
   "cell_type": "code",
   "execution_count": 15,
   "id": "17329e38-a904-4533-a511-2e308315dedb",
   "metadata": {},
   "outputs": [
    {
     "name": "stdout",
     "output_type": "stream",
     "text": [
      "1\n",
      "4\n",
      "9\n",
      "16\n",
      "25\n"
     ]
    }
   ],
   "source": [
    "for i in [1,2,3,4,5]:\n",
    "    print(i**2)"
   ]
  },
  {
   "cell_type": "code",
   "execution_count": 19,
   "id": "6fc938ae-7449-445a-b092-95c1ce81914e",
   "metadata": {},
   "outputs": [
    {
     "name": "stdout",
     "output_type": "stream",
     "text": [
      "number : 4\n",
      "number : 10\n",
      "number : 16\n",
      "number : 22\n",
      "number : 28\n",
      "number : 34\n",
      "number : 40\n",
      "number : 46\n",
      "number : 52\n",
      "number : 58\n",
      "number : 64\n",
      "number : 70\n",
      "number : 76\n",
      "number : 82\n",
      "number : 88\n",
      "number : 94\n"
     ]
    }
   ],
   "source": [
    "for number in range(1,100,3):\n",
    "    if number  in range(2,100,2):\n",
    "        print(f\"number : {number}\")"
   ]
  },
  {
   "cell_type": "markdown",
   "id": "3142d611-d23e-4e31-99b8-c42e08bf4a98",
   "metadata": {},
   "source": [
    "while loop"
   ]
  },
  {
   "cell_type": "code",
   "execution_count": 22,
   "id": "54965f43-c700-4c66-8d22-deb9a2004b3a",
   "metadata": {},
   "outputs": [
    {
     "name": "stdout",
     "output_type": "stream",
     "text": [
      "1 is less than 5\n",
      "2 is less than 5\n",
      "3 is less than 5\n",
      "4 is less than 5\n",
      "5 is equal to 5\n"
     ]
    }
   ],
   "source": [
    "a = 1\n",
    "while a < 5 :\n",
    "    print( f\"{a} is less than 5\")\n",
    "    a += 1\n",
    "print( f\"{a} is equal to 5\")"
   ]
  },
  {
   "cell_type": "code",
   "execution_count": 25,
   "id": "b4b921aa-6916-4b4b-bf77-94566c5eeafd",
   "metadata": {},
   "outputs": [
    {
     "name": "stdout",
     "output_type": "stream",
     "text": [
      "5 is less than 88\n",
      "20 is less than 88\n",
      "35 is less than 88\n",
      "50 is less than 88\n",
      "65 is less than 88\n",
      "80 is less than 88\n"
     ]
    }
   ],
   "source": [
    "a = 1\n",
    "while a * 5 < 88 :\n",
    "    print( f\"{a*5} is less than 88\")\n",
    "    a += 3"
   ]
  }
 ],
 "metadata": {
  "kernelspec": {
   "display_name": "Python 3 (ipykernel)",
   "language": "python",
   "name": "python3"
  },
  "language_info": {
   "codemirror_mode": {
    "name": "ipython",
    "version": 3
   },
   "file_extension": ".py",
   "mimetype": "text/x-python",
   "name": "python",
   "nbconvert_exporter": "python",
   "pygments_lexer": "ipython3",
   "version": "3.13.0"
  }
 },
 "nbformat": 4,
 "nbformat_minor": 5
}
