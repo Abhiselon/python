{
 "cells": [
  {
   "cell_type": "markdown",
   "id": "68d19290-1198-4fe1-b9f7-25e44a761513",
   "metadata": {},
   "source": [
    "#### Return the Sum of Two Numbers"
   ]
  },
  {
   "cell_type": "code",
   "execution_count": 1,
   "id": "d1cd9a54-9373-40d2-9dcc-846bd2551b39",
   "metadata": {},
   "outputs": [],
   "source": [
    "def sum_of_two_numbers(a,b):\n",
    "    return a+b"
   ]
  },
  {
   "cell_type": "code",
   "execution_count": 2,
   "id": "33c79c19-f61a-4893-ba95-9b642166db76",
   "metadata": {},
   "outputs": [
    {
     "data": {
      "text/plain": [
       "6"
      ]
     },
     "execution_count": 2,
     "metadata": {},
     "output_type": "execute_result"
    }
   ],
   "source": [
    "sum_of_two_numbers(1,5)"
   ]
  },
  {
   "cell_type": "code",
   "execution_count": 3,
   "id": "d06c924b-8293-4587-8f0b-5c7c1106c841",
   "metadata": {},
   "outputs": [
    {
     "data": {
      "text/plain": [
       "-6"
      ]
     },
     "execution_count": 3,
     "metadata": {},
     "output_type": "execute_result"
    }
   ],
   "source": [
    "sum_of_two_numbers(-1,-5)"
   ]
  },
  {
   "cell_type": "code",
   "execution_count": 4,
   "id": "64814ff9-f920-4164-b0ff-68091935fc9b",
   "metadata": {},
   "outputs": [
    {
     "data": {
      "text/plain": [
       "4"
      ]
     },
     "execution_count": 4,
     "metadata": {},
     "output_type": "execute_result"
    }
   ],
   "source": [
    "sum_of_two_numbers(-1,5)"
   ]
  },
  {
   "cell_type": "markdown",
   "id": "d7acdacc-e771-4055-bcb4-40343907f0e2",
   "metadata": {},
   "source": [
    "#### Return the Next Number from the Integer Passed"
   ]
  },
  {
   "cell_type": "code",
   "execution_count": 5,
   "id": "8d0e45a0-2825-48a5-8716-5c79f2f5587d",
   "metadata": {},
   "outputs": [],
   "source": [
    "def next_number(a):\n",
    "    return a+1"
   ]
  },
  {
   "cell_type": "code",
   "execution_count": 6,
   "id": "1a9c0eba-061d-4ac9-badd-77dc20e7a6bd",
   "metadata": {},
   "outputs": [
    {
     "data": {
      "text/plain": [
       "11"
      ]
     },
     "execution_count": 6,
     "metadata": {},
     "output_type": "execute_result"
    }
   ],
   "source": [
    "next_number(10)"
   ]
  },
  {
   "cell_type": "markdown",
   "id": "d4d5dd2c-b606-43b5-9b9a-1e4b6ba395ef",
   "metadata": {},
   "source": [
    "#### Convert Minutes into Seconds"
   ]
  },
  {
   "cell_type": "code",
   "execution_count": 8,
   "id": "a599484b-eabe-4ebc-a907-e158fb943331",
   "metadata": {},
   "outputs": [],
   "source": [
    "def min_to_sec(a):\n",
    "    return a * 60"
   ]
  },
  {
   "cell_type": "code",
   "execution_count": 9,
   "id": "1b5f7b8c-d476-42af-bf44-bbd2fbe86e8e",
   "metadata": {},
   "outputs": [
    {
     "data": {
      "text/plain": [
       "300"
      ]
     },
     "execution_count": 9,
     "metadata": {},
     "output_type": "execute_result"
    }
   ],
   "source": [
    "min_to_sec(5)"
   ]
  }
 ],
 "metadata": {
  "kernelspec": {
   "display_name": "Python 3 (ipykernel)",
   "language": "python",
   "name": "python3"
  },
  "language_info": {
   "codemirror_mode": {
    "name": "ipython",
    "version": 3
   },
   "file_extension": ".py",
   "mimetype": "text/x-python",
   "name": "python",
   "nbconvert_exporter": "python",
   "pygments_lexer": "ipython3",
   "version": "3.12.7"
  }
 },
 "nbformat": 4,
 "nbformat_minor": 5
}
