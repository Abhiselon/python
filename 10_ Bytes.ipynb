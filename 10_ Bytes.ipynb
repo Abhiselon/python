{
 "cells": [
  {
   "cell_type": "markdown",
   "id": "17945a3f-98b4-4b71-a2ea-5d9e8271f888",
   "metadata": {},
   "source": [
    "#### Bytes"
   ]
  },
  {
   "cell_type": "markdown",
   "id": "e9edfec3-b1f6-4b1a-8910-93772c6a1f0c",
   "metadata": {},
   "source": [
    "#### Byte Object Common Uses\n",
    "\n",
    "* Streaming files\n",
    "* Transmitting text without knowing the encoding\n",
    "* Often used \"Unter the hood\" in Python Libraries"
   ]
  },
  {
   "cell_type": "code",
   "execution_count": 3,
   "id": "f9b194b0-9035-4bf4-846f-49de7e8a4212",
   "metadata": {},
   "outputs": [
    {
     "data": {
      "text/plain": [
       "b'\\x00\\x00\\x00\\x00'"
      ]
     },
     "execution_count": 3,
     "metadata": {},
     "output_type": "execute_result"
    }
   ],
   "source": [
    "bytes(4) #Creates 4 bytes of empty bytes object"
   ]
  },
  {
   "cell_type": "code",
   "execution_count": 11,
   "id": "fe029772-26e2-4ae0-9be6-6ff9879d18ab",
   "metadata": {},
   "outputs": [],
   "source": [
    "mybyte = bytes('100','utf-8')"
   ]
  },
  {
   "cell_type": "code",
   "execution_count": 21,
   "id": "363190bd-3568-4a11-b6c2-bde7ecb452f1",
   "metadata": {},
   "outputs": [
    {
     "data": {
      "text/plain": [
       "'100'"
      ]
     },
     "execution_count": 21,
     "metadata": {},
     "output_type": "execute_result"
    }
   ],
   "source": [
    "mybyte.decode('utf-8')"
   ]
  },
  {
   "cell_type": "code",
   "execution_count": 22,
   "id": "5fd12c74-788c-4067-b851-e1e26297ee16",
   "metadata": {},
   "outputs": [
    {
     "data": {
      "text/plain": [
       "b'100'"
      ]
     },
     "execution_count": 22,
     "metadata": {},
     "output_type": "execute_result"
    }
   ],
   "source": [
    "mybyte"
   ]
  },
  {
   "cell_type": "code",
   "execution_count": 15,
   "id": "e6737acd-e2a7-4b07-bc35-87d89e0c369d",
   "metadata": {},
   "outputs": [],
   "source": [
    "smileyBytes = bytearray('😆','utf-8')"
   ]
  },
  {
   "cell_type": "code",
   "execution_count": 16,
   "id": "22dbabd2-c399-49c0-8376-9a591b3cd15f",
   "metadata": {},
   "outputs": [
    {
     "data": {
      "text/plain": [
       "bytearray(b'\\xf0\\x9f\\x98\\x86')"
      ]
     },
     "execution_count": 16,
     "metadata": {},
     "output_type": "execute_result"
    }
   ],
   "source": [
    "smileyBytes"
   ]
  },
  {
   "cell_type": "code",
   "execution_count": 17,
   "id": "fb9129fa-776c-4fb7-ac0f-691f6086e9ed",
   "metadata": {},
   "outputs": [
    {
     "data": {
      "text/plain": [
       "'😆'"
      ]
     },
     "execution_count": 17,
     "metadata": {},
     "output_type": "execute_result"
    }
   ],
   "source": [
    "smileyBytes.decode('utf-8')"
   ]
  },
  {
   "cell_type": "code",
   "execution_count": 18,
   "id": "53962062-89af-4369-9eed-96496c8d3388",
   "metadata": {},
   "outputs": [
    {
     "data": {
      "text/plain": [
       "134"
      ]
     },
     "execution_count": 18,
     "metadata": {},
     "output_type": "execute_result"
    }
   ],
   "source": [
    "smileyBytes[3]"
   ]
  },
  {
   "cell_type": "code",
   "execution_count": 19,
   "id": "ecca5cb3-c898-43b5-84d8-63007c9e7f7a",
   "metadata": {},
   "outputs": [],
   "source": [
    "smileyBytes[-1] = int('85',16)"
   ]
  },
  {
   "cell_type": "code",
   "execution_count": 20,
   "id": "934df017-1a40-4212-b9bc-c890517ed235",
   "metadata": {
    "scrolled": true
   },
   "outputs": [
    {
     "data": {
      "text/plain": [
       "'😅'"
      ]
     },
     "execution_count": 20,
     "metadata": {},
     "output_type": "execute_result"
    }
   ],
   "source": [
    "smileyBytes.decode('utf-8')"
   ]
  }
 ],
 "metadata": {
  "kernelspec": {
   "display_name": "Python 3 (ipykernel)",
   "language": "python",
   "name": "python3"
  },
  "language_info": {
   "codemirror_mode": {
    "name": "ipython",
    "version": 3
   },
   "file_extension": ".py",
   "mimetype": "text/x-python",
   "name": "python",
   "nbconvert_exporter": "python",
   "pygments_lexer": "ipython3",
   "version": "3.13.0"
  }
 },
 "nbformat": 4,
 "nbformat_minor": 5
}
