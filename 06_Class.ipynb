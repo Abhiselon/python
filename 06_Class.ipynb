{
 "cells": [
  {
   "cell_type": "markdown",
   "id": "c2a879f4-a6be-4f88-8354-1a56e6d9964f",
   "metadata": {},
   "source": [
    "Classes"
   ]
  },
  {
   "cell_type": "code",
   "execution_count": 10,
   "id": "c8a172ea-bd9d-4491-aef7-85e00589b31e",
   "metadata": {},
   "outputs": [],
   "source": [
    "class Dog:\n",
    "    def __init__(self):\n",
    "        self.name = 'Rover'\n",
    "        self.legs = 4\n",
    "    def speak(self):\n",
    "        print(self.name + ' says: Bark!')\n",
    "        "
   ]
  },
  {
   "cell_type": "code",
   "execution_count": 11,
   "id": "e4798ae5-f75b-4147-9f81-8990d76c66eb",
   "metadata": {},
   "outputs": [],
   "source": [
    "my_dog = Dog()"
   ]
  },
  {
   "cell_type": "code",
   "execution_count": 12,
   "id": "cb63d992-f0aa-4d33-879d-1085285a5274",
   "metadata": {},
   "outputs": [
    {
     "name": "stdout",
     "output_type": "stream",
     "text": [
      "Rover says: Bark!\n"
     ]
    }
   ],
   "source": [
    "my_dog.speak()"
   ]
  },
  {
   "cell_type": "code",
   "execution_count": 15,
   "id": "c776168e-1373-4e8c-a908-a57c6ad9cb7c",
   "metadata": {},
   "outputs": [],
   "source": [
    "class Dog:\n",
    "    def __init__(self,name):\n",
    "        self.name = 'Rover'\n",
    "        self.legs = 4\n",
    "    def speak(self):\n",
    "        print(self.name + ' says: Bark!')"
   ]
  },
  {
   "cell_type": "code",
   "execution_count": 17,
   "id": "4b598341-1cb1-4d5f-a212-04f03cea465f",
   "metadata": {},
   "outputs": [],
   "source": [
    "my_dog = Dog('fluffy')"
   ]
  },
  {
   "cell_type": "code",
   "execution_count": 18,
   "id": "afa3e782-8da6-4cab-953f-2c265601fb92",
   "metadata": {},
   "outputs": [
    {
     "name": "stdout",
     "output_type": "stream",
     "text": [
      "Rover says: Bark!\n"
     ]
    }
   ],
   "source": [
    "my_dog.speak()"
   ]
  }
 ],
 "metadata": {
  "kernelspec": {
   "display_name": "Python 3 (ipykernel)",
   "language": "python",
   "name": "python3"
  },
  "language_info": {
   "codemirror_mode": {
    "name": "ipython",
    "version": 3
   },
   "file_extension": ".py",
   "mimetype": "text/x-python",
   "name": "python",
   "nbconvert_exporter": "python",
   "pygments_lexer": "ipython3",
   "version": "3.13.0"
  }
 },
 "nbformat": 4,
 "nbformat_minor": 5
}
