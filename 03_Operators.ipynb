{
 "cells": [
  {
   "cell_type": "markdown",
   "id": "50bf99e6-09c1-4da2-a1d6-07f1334768c3",
   "metadata": {},
   "source": [
    "Arithmetic Operators"
   ]
  },
  {
   "cell_type": "code",
   "execution_count": 12,
   "id": "2424519d-82e6-42b6-b414-39d871f55584",
   "metadata": {
    "collapsed": true,
    "jupyter": {
     "outputs_hidden": true
    }
   },
   "outputs": [
    {
     "data": {
      "text/plain": [
       "2"
      ]
     },
     "execution_count": 12,
     "metadata": {},
     "output_type": "execute_result"
    }
   ],
   "source": [
    "#Addition\n",
    "1+1"
   ]
  },
  {
   "cell_type": "code",
   "execution_count": 13,
   "id": "db80ebbb-a677-4ce2-a8c4-fd84aa52274e",
   "metadata": {},
   "outputs": [
    {
     "data": {
      "text/plain": [
       "30"
      ]
     },
     "execution_count": 13,
     "metadata": {},
     "output_type": "execute_result"
    }
   ],
   "source": [
    "#Multiplication\n",
    "5 * 6"
   ]
  },
  {
   "cell_type": "code",
   "execution_count": 14,
   "id": "a9e622bc-9a8e-4666-96d2-f684c624a9aa",
   "metadata": {},
   "outputs": [
    {
     "data": {
      "text/plain": [
       "512"
      ]
     },
     "execution_count": 14,
     "metadata": {},
     "output_type": "execute_result"
    }
   ],
   "source": [
    "#Power \n",
    "8 ** 3"
   ]
  },
  {
   "cell_type": "code",
   "execution_count": 15,
   "id": "8bfc8136-b4ab-4707-9e34-e3e6da0afe2f",
   "metadata": {},
   "outputs": [
    {
     "data": {
      "text/plain": [
       "6.25"
      ]
     },
     "execution_count": 15,
     "metadata": {},
     "output_type": "execute_result"
    }
   ],
   "source": [
    "#Division\n",
    "25 / 4"
   ]
  },
  {
   "cell_type": "code",
   "execution_count": 16,
   "id": "6d1d5317-a0a3-4f90-a4aa-2289e2da3fc0",
   "metadata": {},
   "outputs": [
    {
     "data": {
      "text/plain": [
       "3.3333333333333335"
      ]
     },
     "execution_count": 16,
     "metadata": {},
     "output_type": "execute_result"
    }
   ],
   "source": [
    "#Division\n",
    "20 / 6"
   ]
  },
  {
   "cell_type": "code",
   "execution_count": 17,
   "id": "3e029436-b417-4985-86b4-ea83957ff8d5",
   "metadata": {},
   "outputs": [
    {
     "data": {
      "text/plain": [
       "2"
      ]
     },
     "execution_count": 17,
     "metadata": {},
     "output_type": "execute_result"
    }
   ],
   "source": [
    "#Remainder\n",
    "20 % 6"
   ]
  },
  {
   "cell_type": "markdown",
   "id": "cf251f70-22f3-4767-a673-8072271340d3",
   "metadata": {},
   "source": [
    "Arithmetic operations on Strings"
   ]
  },
  {
   "cell_type": "code",
   "execution_count": 18,
   "id": "8121b269-9f7f-4d04-86e3-c5c5aa5d2fba",
   "metadata": {},
   "outputs": [
    {
     "data": {
      "text/plain": [
       "' - Abhishek - '"
      ]
     },
     "execution_count": 18,
     "metadata": {},
     "output_type": "execute_result"
    }
   ],
   "source": [
    "# Concatenation\n",
    "' - Abhi' + 'shek - '"
   ]
  },
  {
   "cell_type": "code",
   "execution_count": 19,
   "id": "d0034e9a-edfb-440b-8196-14df547b708f",
   "metadata": {},
   "outputs": [
    {
     "data": {
      "text/plain": [
       "' Abhi  Abhi  Abhi  Abhi '"
      ]
     },
     "execution_count": 19,
     "metadata": {},
     "output_type": "execute_result"
    }
   ],
   "source": [
    "# String Multiplication\n",
    "' Abhi ' * 4"
   ]
  },
  {
   "cell_type": "code",
   "execution_count": 20,
   "id": "b706df66-fc81-49fb-bf19-4e7841aa4f98",
   "metadata": {},
   "outputs": [
    {
     "ename": "TypeError",
     "evalue": "can only concatenate str (not \"int\") to str",
     "output_type": "error",
     "traceback": [
      "\u001b[1;31m---------------------------------------------------------------------------\u001b[0m",
      "\u001b[1;31mTypeError\u001b[0m                                 Traceback (most recent call last)",
      "Cell \u001b[1;32mIn[20], line 1\u001b[0m\n\u001b[1;32m----> 1\u001b[0m \u001b[38;5;124;43m'\u001b[39;49m\u001b[38;5;124;43m1\u001b[39;49m\u001b[38;5;124;43m'\u001b[39;49m\u001b[43m \u001b[49m\u001b[38;5;241;43m+\u001b[39;49m\u001b[43m \u001b[49m\u001b[38;5;241;43m4\u001b[39;49m\n",
      "\u001b[1;31mTypeError\u001b[0m: can only concatenate str (not \"int\") to str"
     ]
    }
   ],
   "source": [
    "'1' + 4 #Types are different"
   ]
  },
  {
   "cell_type": "markdown",
   "id": "a522d472-c5e9-4983-a559-ce3c452e24a9",
   "metadata": {},
   "source": [
    "Comparison Operators"
   ]
  },
  {
   "cell_type": "code",
   "execution_count": 21,
   "id": "19c78fdb-0554-4745-a8e5-d464e16d507e",
   "metadata": {},
   "outputs": [
    {
     "data": {
      "text/plain": [
       "True"
      ]
     },
     "execution_count": 21,
     "metadata": {},
     "output_type": "execute_result"
    }
   ],
   "source": [
    "True == True"
   ]
  },
  {
   "cell_type": "code",
   "execution_count": 22,
   "id": "a8a13087-adea-4ec7-a0e1-fd35be1750a5",
   "metadata": {},
   "outputs": [
    {
     "data": {
      "text/plain": [
       "True"
      ]
     },
     "execution_count": 22,
     "metadata": {},
     "output_type": "execute_result"
    }
   ],
   "source": [
    "4 < 5"
   ]
  },
  {
   "cell_type": "code",
   "execution_count": 23,
   "id": "a1e6d130-324f-42bd-bf40-ff74a21dbcc0",
   "metadata": {},
   "outputs": [
    {
     "data": {
      "text/plain": [
       "False"
      ]
     },
     "execution_count": 23,
     "metadata": {},
     "output_type": "execute_result"
    }
   ],
   "source": [
    "'miller' == 'Miller'"
   ]
  },
  {
   "cell_type": "code",
   "execution_count": 24,
   "id": "42d5a8de-b3c1-4c51-9cd5-d01a3055d32e",
   "metadata": {},
   "outputs": [
    {
     "data": {
      "text/plain": [
       "True"
      ]
     },
     "execution_count": 24,
     "metadata": {},
     "output_type": "execute_result"
    }
   ],
   "source": [
    "5>=2"
   ]
  },
  {
   "cell_type": "markdown",
   "id": "f7e6f458-adbf-4ca9-8fcc-a47fa4fdd403",
   "metadata": {},
   "source": [
    "Logical Operators"
   ]
  },
  {
   "cell_type": "code",
   "execution_count": 25,
   "id": "7a223149-e907-4420-a787-b04350c656f3",
   "metadata": {},
   "outputs": [
    {
     "data": {
      "text/plain": [
       "False"
      ]
     },
     "execution_count": 25,
     "metadata": {},
     "output_type": "execute_result"
    }
   ],
   "source": [
    "True and False"
   ]
  },
  {
   "cell_type": "code",
   "execution_count": 26,
   "id": "1ae0d688-3298-4a1e-af5f-678f87ec69fc",
   "metadata": {},
   "outputs": [
    {
     "data": {
      "text/plain": [
       "True"
      ]
     },
     "execution_count": 26,
     "metadata": {},
     "output_type": "execute_result"
    }
   ],
   "source": [
    "True and True"
   ]
  },
  {
   "cell_type": "code",
   "execution_count": 27,
   "id": "bb6aa70c-2560-4c23-ad25-f3febfcc2fef",
   "metadata": {},
   "outputs": [
    {
     "data": {
      "text/plain": [
       "True"
      ]
     },
     "execution_count": 27,
     "metadata": {},
     "output_type": "execute_result"
    }
   ],
   "source": [
    "True or False"
   ]
  },
  {
   "cell_type": "code",
   "execution_count": 28,
   "id": "92e5ceeb-4fa9-4218-925e-88e29ad83dfc",
   "metadata": {},
   "outputs": [
    {
     "data": {
      "text/plain": [
       "True"
      ]
     },
     "execution_count": 28,
     "metadata": {},
     "output_type": "execute_result"
    }
   ],
   "source": [
    "False or True"
   ]
  },
  {
   "cell_type": "code",
   "execution_count": 29,
   "id": "54a2e3b8-aa91-40e9-b399-b40b6623f481",
   "metadata": {},
   "outputs": [
    {
     "data": {
      "text/plain": [
       "True"
      ]
     },
     "execution_count": 29,
     "metadata": {},
     "output_type": "execute_result"
    }
   ],
   "source": [
    "True and False or True"
   ]
  },
  {
   "cell_type": "code",
   "execution_count": 30,
   "id": "659234d4-03b4-4408-a1a9-b67e0d4b73c1",
   "metadata": {},
   "outputs": [
    {
     "data": {
      "text/plain": [
       "True"
      ]
     },
     "execution_count": 30,
     "metadata": {},
     "output_type": "execute_result"
    }
   ],
   "source": [
    "not False"
   ]
  },
  {
   "cell_type": "code",
   "execution_count": 31,
   "id": "9fbb778e-8642-4538-acb3-d6652bedead9",
   "metadata": {},
   "outputs": [
    {
     "data": {
      "text/plain": [
       "False"
      ]
     },
     "execution_count": 31,
     "metadata": {},
     "output_type": "execute_result"
    }
   ],
   "source": [
    "not True"
   ]
  },
  {
   "cell_type": "code",
   "execution_count": 32,
   "id": "02c45b58-2c45-4d95-b07b-4eb43003b6fd",
   "metadata": {},
   "outputs": [
    {
     "data": {
      "text/plain": [
       "False"
      ]
     },
     "execution_count": 32,
     "metadata": {},
     "output_type": "execute_result"
    }
   ],
   "source": [
    "not ( 4 < 5)"
   ]
  },
  {
   "cell_type": "markdown",
   "id": "1c953c87-dca7-405f-960c-1344a09c5f0f",
   "metadata": {},
   "source": [
    "Membership Operators"
   ]
  },
  {
   "cell_type": "code",
   "execution_count": 33,
   "id": "c31253e9-d277-406e-b047-f36ac444b418",
   "metadata": {},
   "outputs": [
    {
     "data": {
      "text/plain": [
       "True"
      ]
     },
     "execution_count": 33,
     "metadata": {},
     "output_type": "execute_result"
    }
   ],
   "source": [
    "1 in [1,2,3,4,5]"
   ]
  },
  {
   "cell_type": "code",
   "execution_count": 34,
   "id": "f6cbb5dc-7f00-4ffe-acb3-37f2695fec7d",
   "metadata": {},
   "outputs": [
    {
     "data": {
      "text/plain": [
       "False"
      ]
     },
     "execution_count": 34,
     "metadata": {},
     "output_type": "execute_result"
    }
   ],
   "source": [
    "4 in [3,3, 5]"
   ]
  },
  {
   "cell_type": "code",
   "execution_count": 35,
   "id": "b9e10715-ec06-46bf-9fc2-c58465291d21",
   "metadata": {},
   "outputs": [
    {
     "data": {
      "text/plain": [
       "True"
      ]
     },
     "execution_count": 35,
     "metadata": {},
     "output_type": "execute_result"
    }
   ],
   "source": [
    "5 in range(1,100,2)"
   ]
  },
  {
   "cell_type": "code",
   "execution_count": 38,
   "id": "57a96f28-7e03-412d-a416-ecfd3947d699",
   "metadata": {},
   "outputs": [
    {
     "data": {
      "text/plain": [
       "False"
      ]
     },
     "execution_count": 38,
     "metadata": {},
     "output_type": "execute_result"
    }
   ],
   "source": [
    "4 in range(1,100,2)"
   ]
  },
  {
   "cell_type": "code",
   "execution_count": 39,
   "id": "62c11687-148b-43f2-aa33-ad4a50291e29",
   "metadata": {},
   "outputs": [
    {
     "data": {
      "text/plain": [
       "False"
      ]
     },
     "execution_count": 39,
     "metadata": {},
     "output_type": "execute_result"
    }
   ],
   "source": [
    "5 in range(1,100,2) and 4 in range(1,100,2) "
   ]
  },
  {
   "cell_type": "code",
   "execution_count": 40,
   "id": "852de6db-45ec-4c3c-b99e-f95d028286f1",
   "metadata": {},
   "outputs": [
    {
     "data": {
      "text/plain": [
       "True"
      ]
     },
     "execution_count": 40,
     "metadata": {},
     "output_type": "execute_result"
    }
   ],
   "source": [
    "not (5 in range(1,100,2) and 4 in range(1,100,2) )"
   ]
  },
  {
   "cell_type": "code",
   "execution_count": 41,
   "id": "b803db95-c52b-4cfd-b66e-5e3ace478c97",
   "metadata": {},
   "outputs": [
    {
     "data": {
      "text/plain": [
       "False"
      ]
     },
     "execution_count": 41,
     "metadata": {},
     "output_type": "execute_result"
    }
   ],
   "source": [
    "not(5 in range(1,100,2) and 4 in range(1,100,2)  or 5 in range(1,100,2) or 4 in range(1,100,2) )"
   ]
  },
  {
   "cell_type": "code",
   "execution_count": 42,
   "id": "c0da3c69-3db4-4f5c-b625-d41b95048357",
   "metadata": {},
   "outputs": [
    {
     "data": {
      "text/plain": [
       "False"
      ]
     },
     "execution_count": 42,
     "metadata": {},
     "output_type": "execute_result"
    }
   ],
   "source": [
    "5 not in {1,2,5,6}"
   ]
  },
  {
   "cell_type": "code",
   "execution_count": 45,
   "id": "3ef2b9cf-8581-415d-b389-f8b84423c88a",
   "metadata": {},
   "outputs": [
    {
     "data": {
      "text/plain": [
       "True"
      ]
     },
     "execution_count": 45,
     "metadata": {},
     "output_type": "execute_result"
    }
   ],
   "source": [
    "'cat' in 'my petccat'"
   ]
  }
 ],
 "metadata": {
  "kernelspec": {
   "display_name": "Python 3 (ipykernel)",
   "language": "python",
   "name": "python3"
  },
  "language_info": {
   "codemirror_mode": {
    "name": "ipython",
    "version": 3
   },
   "file_extension": ".py",
   "mimetype": "text/x-python",
   "name": "python",
   "nbconvert_exporter": "python",
   "pygments_lexer": "ipython3",
   "version": "3.13.0"
  }
 },
 "nbformat": 4,
 "nbformat_minor": 5
}
