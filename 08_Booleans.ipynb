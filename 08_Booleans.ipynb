{
 "cells": [
  {
   "cell_type": "markdown",
   "id": "01e2ccf6-66bb-4817-a22d-520c83f66b0c",
   "metadata": {},
   "source": [
    "# Booleans"
   ]
  },
  {
   "cell_type": "markdown",
   "id": "777434e2-eca6-43cd-9e4f-a2aae37daa1b",
   "metadata": {
    "jp-MarkdownHeadingCollapsed": true
   },
   "source": [
    "## Casting Booleans"
   ]
  },
  {
   "cell_type": "code",
   "execution_count": 1,
   "id": "0c9a10bd-9f75-4dee-93a2-71b9bb0c691c",
   "metadata": {},
   "outputs": [
    {
     "data": {
      "text/plain": [
       "True"
      ]
     },
     "execution_count": 1,
     "metadata": {},
     "output_type": "execute_result"
    }
   ],
   "source": [
    "bool(1)"
   ]
  },
  {
   "cell_type": "code",
   "execution_count": 2,
   "id": "af2714f9-e510-4b2c-93c5-c50b7eb10e09",
   "metadata": {},
   "outputs": [
    {
     "data": {
      "text/plain": [
       "False"
      ]
     },
     "execution_count": 2,
     "metadata": {},
     "output_type": "execute_result"
    }
   ],
   "source": [
    "bool(0)"
   ]
  },
  {
   "cell_type": "code",
   "execution_count": 3,
   "id": "58ec441e-dce1-4d6e-a4ed-b65bbf8f9da4",
   "metadata": {},
   "outputs": [
    {
     "data": {
      "text/plain": [
       "True"
      ]
     },
     "execution_count": 3,
     "metadata": {},
     "output_type": "execute_result"
    }
   ],
   "source": [
    "bool(-1)"
   ]
  },
  {
   "cell_type": "code",
   "execution_count": 4,
   "id": "e1907468-4847-40a7-a92d-7c652bce45fd",
   "metadata": {},
   "outputs": [
    {
     "data": {
      "text/plain": [
       "True"
      ]
     },
     "execution_count": 4,
     "metadata": {},
     "output_type": "execute_result"
    }
   ],
   "source": [
    "bool(1j)"
   ]
  },
  {
   "cell_type": "code",
   "execution_count": 5,
   "id": "8429d5b9-d761-43cc-96c6-d7f104593b9a",
   "metadata": {},
   "outputs": [
    {
     "data": {
      "text/plain": [
       "False"
      ]
     },
     "execution_count": 5,
     "metadata": {},
     "output_type": "execute_result"
    }
   ],
   "source": [
    "bool(0.)"
   ]
  },
  {
   "cell_type": "code",
   "execution_count": 6,
   "id": "36dc2832-8f87-43d2-9d8e-c40c81a35166",
   "metadata": {},
   "outputs": [
    {
     "data": {
      "text/plain": [
       "False"
      ]
     },
     "execution_count": 6,
     "metadata": {},
     "output_type": "execute_result"
    }
   ],
   "source": [
    "bool(0j)"
   ]
  },
  {
   "cell_type": "code",
   "execution_count": 7,
   "id": "1d27fcbb-3307-43cd-bcdd-1e7a01a3b569",
   "metadata": {},
   "outputs": [
    {
     "data": {
      "text/plain": [
       "False"
      ]
     },
     "execution_count": 7,
     "metadata": {},
     "output_type": "execute_result"
    }
   ],
   "source": [
    "bool()"
   ]
  },
  {
   "cell_type": "code",
   "execution_count": 8,
   "id": "12b9d111-8fb3-4ba0-9a5d-307954a67f80",
   "metadata": {},
   "outputs": [
    {
     "data": {
      "text/plain": [
       "False"
      ]
     },
     "execution_count": 8,
     "metadata": {},
     "output_type": "execute_result"
    }
   ],
   "source": [
    "bool('')"
   ]
  },
  {
   "cell_type": "code",
   "execution_count": 9,
   "id": "992abafb-5b48-4483-86c7-b30ff16f81c0",
   "metadata": {},
   "outputs": [
    {
     "data": {
      "text/plain": [
       "True"
      ]
     },
     "execution_count": 9,
     "metadata": {},
     "output_type": "execute_result"
    }
   ],
   "source": [
    "bool(' ')"
   ]
  },
  {
   "cell_type": "code",
   "execution_count": 10,
   "id": "08540c5e-55d8-4e18-87ec-eee9be58bb67",
   "metadata": {},
   "outputs": [
    {
     "data": {
      "text/plain": [
       "False"
      ]
     },
     "execution_count": 10,
     "metadata": {},
     "output_type": "execute_result"
    }
   ],
   "source": [
    "bool({})"
   ]
  },
  {
   "cell_type": "code",
   "execution_count": 11,
   "id": "ec8f6107-a5ef-4683-806c-c5a444fc5aaf",
   "metadata": {},
   "outputs": [
    {
     "data": {
      "text/plain": [
       "True"
      ]
     },
     "execution_count": 11,
     "metadata": {},
     "output_type": "execute_result"
    }
   ],
   "source": [
    "bool('False')"
   ]
  },
  {
   "cell_type": "code",
   "execution_count": 12,
   "id": "51171b70-b319-41b4-aad0-608a8e333734",
   "metadata": {},
   "outputs": [
    {
     "data": {
      "text/plain": [
       "False"
      ]
     },
     "execution_count": 12,
     "metadata": {},
     "output_type": "execute_result"
    }
   ],
   "source": [
    "bool(None)"
   ]
  },
  {
   "cell_type": "code",
   "execution_count": 15,
   "id": "4dfd1d9c-3c11-4448-88de-cf0b8b510e14",
   "metadata": {},
   "outputs": [
    {
     "name": "stdout",
     "output_type": "stream",
     "text": [
      "mylist is not empty\n"
     ]
    }
   ],
   "source": [
    "mylist = [1,2]\n",
    "\n",
    "if mylist:\n",
    "    print('mylist is not empty')"
   ]
  },
  {
   "cell_type": "code",
   "execution_count": 20,
   "id": "253e7fb6-f26d-4823-bccd-c4e7acada29b",
   "metadata": {},
   "outputs": [
    {
     "name": "stdout",
     "output_type": "stream",
     "text": [
      "a and b are equal\n"
     ]
    }
   ],
   "source": [
    "a = 5\n",
    "b = 5\n",
    "if a - b :\n",
    "    print('a and b are not equal')\n",
    "else:\n",
    "    print('a and b are equal')"
   ]
  },
  {
   "cell_type": "markdown",
   "id": "6dcefacc-9787-4de4-bf5f-aebbcac0d857",
   "metadata": {
    "jp-MarkdownHeadingCollapsed": true
   },
   "source": [
    "## Boolean Logic"
   ]
  },
  {
   "cell_type": "code",
   "execution_count": 22,
   "id": "3470a878-5797-4786-8ce8-00120ee0abf7",
   "metadata": {},
   "outputs": [
    {
     "name": "stdout",
     "output_type": "stream",
     "text": [
      "Go for a walk\n"
     ]
    }
   ],
   "source": [
    "weatherIsNice = True\n",
    "haveUmbrella = False\n",
    "\n",
    "if (not haveUmbrella) and (not weatherIsNice):\n",
    "    print('stay inside')\n",
    "else:\n",
    "    print('Go for a walk')"
   ]
  },
  {
   "cell_type": "code",
   "execution_count": 23,
   "id": "345fed57-5f95-4fd8-a7c8-696953bdd99c",
   "metadata": {},
   "outputs": [
    {
     "name": "stdout",
     "output_type": "stream",
     "text": [
      "Go for a walk\n"
     ]
    }
   ],
   "source": [
    "weatherIsNice = True\n",
    "haveUmbrella = False\n",
    "\n",
    "if not (haveUmbrella or weatherIsNice):\n",
    "    print('stay inside')\n",
    "else:\n",
    "    print('Go for a walk')"
   ]
  },
  {
   "cell_type": "code",
   "execution_count": 24,
   "id": "9e4a0a47-04e0-4a0f-97b6-1cba9fe82f41",
   "metadata": {},
   "outputs": [
    {
     "name": "stdout",
     "output_type": "stream",
     "text": [
      "Go for a walk\n"
     ]
    }
   ],
   "source": [
    "weatherIsNice = True\n",
    "haveUmbrella = False\n",
    "\n",
    "if haveUmbrella or weatherIsNice:\n",
    "    print('Go for a walk')\n",
    "else:\n",
    "    print('stay inside')"
   ]
  },
  {
   "cell_type": "markdown",
   "id": "76fc0af6-0a4c-4b8a-ba5e-58f5934063fb",
   "metadata": {},
   "source": [
    " #### There are different way of writing a code, but prefer which is having good readability"
   ]
  }
 ],
 "metadata": {
  "kernelspec": {
   "display_name": "Python 3 (ipykernel)",
   "language": "python",
   "name": "python3"
  },
  "language_info": {
   "codemirror_mode": {
    "name": "ipython",
    "version": 3
   },
   "file_extension": ".py",
   "mimetype": "text/x-python",
   "name": "python",
   "nbconvert_exporter": "python",
   "pygments_lexer": "ipython3",
   "version": "3.13.0"
  }
 },
 "nbformat": 4,
 "nbformat_minor": 5
}
